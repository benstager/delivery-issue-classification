{
 "cells": [
  {
   "cell_type": "code",
   "execution_count": 49,
   "metadata": {},
   "outputs": [],
   "source": [
    "import pandas as pd  \n",
    "import numpy as np\n",
    "from skimpy import skim\n",
    "\n",
    "import matplotlib.pyplot as plt\n",
    "import seaborn as sns\n",
    "\n",
    "from imblearn.under_sampling import RandomUnderSampler\n",
    "from sklearn.linear_model import LogisticRegression\n",
    "from sklearn.svm import SVC\n",
    "from sklearn.ensemble import RandomForestClassifier\n",
    "from sklearn.model_selection import train_test_split, KFold, StratifiedKFold\n",
    "from sklearn.metrics import roc_auc_score, accuracy_score, f1_score, recall_score, precision_score, precision_recall_curve\n",
    "from sklearn.preprocessing import StandardScaler, OneHotEncoder, OrdinalEncoder\n",
    "from sklearn.feature_selection import SelectKBest, f_classif\n",
    "\n",
    "from xgboost import XGBClassifier\n",
    "\n",
    "from multiprocessing import pool\n",
    "\n",
    "from keras.models import Sequential\n",
    "from keras.layers import Dense, Dropout, Normalization\n",
    "from keras.losses import BinaryCrossentropy"
   ]
  },
  {
   "cell_type": "code",
   "execution_count": 8,
   "metadata": {},
   "outputs": [],
   "source": [
    "master_df = pd.read_csv('classification_task.csv')\n",
    "master_df = master_df[master_df['distance'].isna() == False]"
   ]
  },
  {
   "cell_type": "code",
   "execution_count": 9,
   "metadata": {},
   "outputs": [
    {
     "name": "stdout",
     "output_type": "stream",
     "text": [
      "<class 'pandas.core.frame.DataFrame'>\n",
      "Index: 9857 entries, 0 to 9999\n",
      "Data columns (total 10 columns):\n",
      " #   Column              Non-Null Count  Dtype  \n",
      "---  ------              --------------  -----  \n",
      " 0   shipment_issue      9857 non-null   int64  \n",
      " 1   carrier             9857 non-null   object \n",
      " 2   shipping_method     9857 non-null   object \n",
      " 3   distance            9857 non-null   float64\n",
      " 4   package_type        9857 non-null   object \n",
      " 5   location            9857 non-null   object \n",
      " 6   customer_tier       9857 non-null   object \n",
      " 7   weather_conditions  9857 non-null   object \n",
      " 8   holiday_period      9857 non-null   object \n",
      " 9   pop_density         9857 non-null   object \n",
      "dtypes: float64(1), int64(1), object(8)\n",
      "memory usage: 847.1+ KB\n"
     ]
    }
   ],
   "source": [
    "master_df.info()"
   ]
  },
  {
   "cell_type": "code",
   "execution_count": 10,
   "metadata": {},
   "outputs": [
    {
     "data": {
      "text/html": [
       "<pre style=\"white-space:pre;overflow-x:auto;line-height:normal;font-family:Menlo,'DejaVu Sans Mono',consolas,'Courier New',monospace\">╭──────────────────────────────────────────────── skimpy summary ─────────────────────────────────────────────────╮\n",
       "│ <span style=\"font-style: italic\">         Data Summary         </span> <span style=\"font-style: italic\">      Data Types       </span>                                                          │\n",
       "│ ┏━━━━━━━━━━━━━━━━━━━┳━━━━━━━━┓ ┏━━━━━━━━━━━━━┳━━━━━━━┓                                                          │\n",
       "│ ┃<span style=\"color: #008080; text-decoration-color: #008080; font-weight: bold\"> dataframe         </span>┃<span style=\"color: #008080; text-decoration-color: #008080; font-weight: bold\"> Values </span>┃ ┃<span style=\"color: #008080; text-decoration-color: #008080; font-weight: bold\"> Column Type </span>┃<span style=\"color: #008080; text-decoration-color: #008080; font-weight: bold\"> Count </span>┃                                                          │\n",
       "│ ┡━━━━━━━━━━━━━━━━━━━╇━━━━━━━━┩ ┡━━━━━━━━━━━━━╇━━━━━━━┩                                                          │\n",
       "│ │ Number of rows    │ 10000  │ │ string      │ 8     │                                                          │\n",
       "│ │ Number of columns │ 10     │ │ int64       │ 1     │                                                          │\n",
       "│ └───────────────────┴────────┘ │ float64     │ 1     │                                                          │\n",
       "│                                └─────────────┴───────┘                                                          │\n",
       "│ <span style=\"font-style: italic\">                                                    number                                                    </span>  │\n",
       "│ ┏━━━━━━━━━━━━━━━━━━━━┳━━━━━━┳━━━━━━━━┳━━━━━━━━━━┳━━━━━━━━━━┳━━━━━━━━━┳━━━━━━┳━━━━━━━┳━━━━━━━┳━━━━━━━┳━━━━━━━━┓  │\n",
       "│ ┃<span style=\"font-weight: bold\"> column_name        </span>┃<span style=\"font-weight: bold\"> NA   </span>┃<span style=\"font-weight: bold\"> NA %   </span>┃<span style=\"font-weight: bold\"> mean     </span>┃<span style=\"font-weight: bold\"> sd       </span>┃<span style=\"font-weight: bold\"> p0      </span>┃<span style=\"font-weight: bold\"> p25  </span>┃<span style=\"font-weight: bold\"> p50   </span>┃<span style=\"font-weight: bold\"> p75   </span>┃<span style=\"font-weight: bold\"> p100  </span>┃<span style=\"font-weight: bold\"> hist   </span>┃  │\n",
       "│ ┡━━━━━━━━━━━━━━━━━━━━╇━━━━━━╇━━━━━━━━╇━━━━━━━━━━╇━━━━━━━━━━╇━━━━━━━━━╇━━━━━━╇━━━━━━━╇━━━━━━━╇━━━━━━━╇━━━━━━━━┩  │\n",
       "│ │ <span style=\"color: #af87ff; text-decoration-color: #af87ff\">shipment_issue    </span> │ <span style=\"color: #008080; text-decoration-color: #008080\">   0</span> │ <span style=\"color: #008080; text-decoration-color: #008080\">     0</span> │ <span style=\"color: #008080; text-decoration-color: #008080\">  0.0929</span> │ <span style=\"color: #008080; text-decoration-color: #008080\">  0.2903</span> │ <span style=\"color: #008080; text-decoration-color: #008080\">      0</span> │ <span style=\"color: #008080; text-decoration-color: #008080\">   0</span> │ <span style=\"color: #008080; text-decoration-color: #008080\">    0</span> │ <span style=\"color: #008080; text-decoration-color: #008080\">    0</span> │ <span style=\"color: #008080; text-decoration-color: #008080\">    1</span> │ <span style=\"color: #008000; text-decoration-color: #008000\">▇    ▁</span> │  │\n",
       "│ │ <span style=\"color: #af87ff; text-decoration-color: #af87ff\">distance          </span> │ <span style=\"color: #008080; text-decoration-color: #008080\"> 143</span> │ <span style=\"color: #008080; text-decoration-color: #008080\">  1.43</span> │ <span style=\"color: #008080; text-decoration-color: #008080\">    1002</span> │ <span style=\"color: #008080; text-decoration-color: #008080\">   575.9</span> │ <span style=\"color: #008080; text-decoration-color: #008080\">  10.03</span> │ <span style=\"color: #008080; text-decoration-color: #008080\"> 503</span> │ <span style=\"color: #008080; text-decoration-color: #008080\"> 1003</span> │ <span style=\"color: #008080; text-decoration-color: #008080\"> 1500</span> │ <span style=\"color: #008080; text-decoration-color: #008080\"> 2000</span> │ <span style=\"color: #008000; text-decoration-color: #008000\">▇▇▇▇▇▇</span> │  │\n",
       "│ └────────────────────┴──────┴────────┴──────────┴──────────┴─────────┴──────┴───────┴───────┴───────┴────────┘  │\n",
       "│ <span style=\"font-style: italic\">                                                    string                                                    </span>  │\n",
       "│ ┏━━━━━━━━━━━━━━━━━━━━━━━━━━━━━━━━━━━━┳━━━━━━━━┳━━━━━━━━━━━┳━━━━━━━━━━━━━━━━━━━━━━━━━━━┳━━━━━━━━━━━━━━━━━━━━━━┓  │\n",
       "│ ┃<span style=\"font-weight: bold\"> column_name                        </span>┃<span style=\"font-weight: bold\"> NA     </span>┃<span style=\"font-weight: bold\"> NA %      </span>┃<span style=\"font-weight: bold\"> words per row             </span>┃<span style=\"font-weight: bold\"> total words          </span>┃  │\n",
       "│ ┡━━━━━━━━━━━━━━━━━━━━━━━━━━━━━━━━━━━━╇━━━━━━━━╇━━━━━━━━━━━╇━━━━━━━━━━━━━━━━━━━━━━━━━━━╇━━━━━━━━━━━━━━━━━━━━━━┩  │\n",
       "│ │ <span style=\"color: #af87ff; text-decoration-color: #af87ff\">carrier                           </span> │ <span style=\"color: #008080; text-decoration-color: #008080\">     0</span> │ <span style=\"color: #008080; text-decoration-color: #008080\">        0</span> │ <span style=\"color: #008080; text-decoration-color: #008080\">                        1</span> │ <span style=\"color: #008080; text-decoration-color: #008080\">               10000</span> │  │\n",
       "│ │ <span style=\"color: #af87ff; text-decoration-color: #af87ff\">shipping_method                   </span> │ <span style=\"color: #008080; text-decoration-color: #008080\">     0</span> │ <span style=\"color: #008080; text-decoration-color: #008080\">        0</span> │ <span style=\"color: #008080; text-decoration-color: #008080\">                        1</span> │ <span style=\"color: #008080; text-decoration-color: #008080\">               10000</span> │  │\n",
       "│ │ <span style=\"color: #af87ff; text-decoration-color: #af87ff\">package_type                      </span> │ <span style=\"color: #008080; text-decoration-color: #008080\">     0</span> │ <span style=\"color: #008080; text-decoration-color: #008080\">        0</span> │ <span style=\"color: #008080; text-decoration-color: #008080\">                        1</span> │ <span style=\"color: #008080; text-decoration-color: #008080\">               10000</span> │  │\n",
       "│ │ <span style=\"color: #af87ff; text-decoration-color: #af87ff\">location                          </span> │ <span style=\"color: #008080; text-decoration-color: #008080\">     0</span> │ <span style=\"color: #008080; text-decoration-color: #008080\">        0</span> │ <span style=\"color: #008080; text-decoration-color: #008080\">                        1</span> │ <span style=\"color: #008080; text-decoration-color: #008080\">               10000</span> │  │\n",
       "│ │ <span style=\"color: #af87ff; text-decoration-color: #af87ff\">customer_tier                     </span> │ <span style=\"color: #008080; text-decoration-color: #008080\">     0</span> │ <span style=\"color: #008080; text-decoration-color: #008080\">        0</span> │ <span style=\"color: #008080; text-decoration-color: #008080\">                        1</span> │ <span style=\"color: #008080; text-decoration-color: #008080\">               10000</span> │  │\n",
       "│ │ <span style=\"color: #af87ff; text-decoration-color: #af87ff\">weather_conditions                </span> │ <span style=\"color: #008080; text-decoration-color: #008080\">     0</span> │ <span style=\"color: #008080; text-decoration-color: #008080\">        0</span> │ <span style=\"color: #008080; text-decoration-color: #008080\">                        1</span> │ <span style=\"color: #008080; text-decoration-color: #008080\">               10000</span> │  │\n",
       "│ │ <span style=\"color: #af87ff; text-decoration-color: #af87ff\">holiday_period                    </span> │ <span style=\"color: #008080; text-decoration-color: #008080\">     0</span> │ <span style=\"color: #008080; text-decoration-color: #008080\">        0</span> │ <span style=\"color: #008080; text-decoration-color: #008080\">                        1</span> │ <span style=\"color: #008080; text-decoration-color: #008080\">               10000</span> │  │\n",
       "│ │ <span style=\"color: #af87ff; text-decoration-color: #af87ff\">pop_density                       </span> │ <span style=\"color: #008080; text-decoration-color: #008080\">     0</span> │ <span style=\"color: #008080; text-decoration-color: #008080\">        0</span> │ <span style=\"color: #008080; text-decoration-color: #008080\">                        1</span> │ <span style=\"color: #008080; text-decoration-color: #008080\">               10000</span> │  │\n",
       "│ └────────────────────────────────────┴────────┴───────────┴───────────────────────────┴──────────────────────┘  │\n",
       "╰────────────────────────────────────────────────────── End ──────────────────────────────────────────────────────╯\n",
       "</pre>\n"
      ],
      "text/plain": [
       "╭──────────────────────────────────────────────── skimpy summary ─────────────────────────────────────────────────╮\n",
       "│ \u001b[3m         Data Summary         \u001b[0m \u001b[3m      Data Types       \u001b[0m                                                          │\n",
       "│ ┏━━━━━━━━━━━━━━━━━━━┳━━━━━━━━┓ ┏━━━━━━━━━━━━━┳━━━━━━━┓                                                          │\n",
       "│ ┃\u001b[1;36m \u001b[0m\u001b[1;36mdataframe        \u001b[0m\u001b[1;36m \u001b[0m┃\u001b[1;36m \u001b[0m\u001b[1;36mValues\u001b[0m\u001b[1;36m \u001b[0m┃ ┃\u001b[1;36m \u001b[0m\u001b[1;36mColumn Type\u001b[0m\u001b[1;36m \u001b[0m┃\u001b[1;36m \u001b[0m\u001b[1;36mCount\u001b[0m\u001b[1;36m \u001b[0m┃                                                          │\n",
       "│ ┡━━━━━━━━━━━━━━━━━━━╇━━━━━━━━┩ ┡━━━━━━━━━━━━━╇━━━━━━━┩                                                          │\n",
       "│ │ Number of rows    │ 10000  │ │ string      │ 8     │                                                          │\n",
       "│ │ Number of columns │ 10     │ │ int64       │ 1     │                                                          │\n",
       "│ └───────────────────┴────────┘ │ float64     │ 1     │                                                          │\n",
       "│                                └─────────────┴───────┘                                                          │\n",
       "│ \u001b[3m                                                    number                                                    \u001b[0m  │\n",
       "│ ┏━━━━━━━━━━━━━━━━━━━━┳━━━━━━┳━━━━━━━━┳━━━━━━━━━━┳━━━━━━━━━━┳━━━━━━━━━┳━━━━━━┳━━━━━━━┳━━━━━━━┳━━━━━━━┳━━━━━━━━┓  │\n",
       "│ ┃\u001b[1m \u001b[0m\u001b[1mcolumn_name       \u001b[0m\u001b[1m \u001b[0m┃\u001b[1m \u001b[0m\u001b[1mNA  \u001b[0m\u001b[1m \u001b[0m┃\u001b[1m \u001b[0m\u001b[1mNA %  \u001b[0m\u001b[1m \u001b[0m┃\u001b[1m \u001b[0m\u001b[1mmean    \u001b[0m\u001b[1m \u001b[0m┃\u001b[1m \u001b[0m\u001b[1msd      \u001b[0m\u001b[1m \u001b[0m┃\u001b[1m \u001b[0m\u001b[1mp0     \u001b[0m\u001b[1m \u001b[0m┃\u001b[1m \u001b[0m\u001b[1mp25 \u001b[0m\u001b[1m \u001b[0m┃\u001b[1m \u001b[0m\u001b[1mp50  \u001b[0m\u001b[1m \u001b[0m┃\u001b[1m \u001b[0m\u001b[1mp75  \u001b[0m\u001b[1m \u001b[0m┃\u001b[1m \u001b[0m\u001b[1mp100 \u001b[0m\u001b[1m \u001b[0m┃\u001b[1m \u001b[0m\u001b[1mhist  \u001b[0m\u001b[1m \u001b[0m┃  │\n",
       "│ ┡━━━━━━━━━━━━━━━━━━━━╇━━━━━━╇━━━━━━━━╇━━━━━━━━━━╇━━━━━━━━━━╇━━━━━━━━━╇━━━━━━╇━━━━━━━╇━━━━━━━╇━━━━━━━╇━━━━━━━━┩  │\n",
       "│ │ \u001b[38;5;141mshipment_issue    \u001b[0m │ \u001b[36m   0\u001b[0m │ \u001b[36m     0\u001b[0m │ \u001b[36m  0.0929\u001b[0m │ \u001b[36m  0.2903\u001b[0m │ \u001b[36m      0\u001b[0m │ \u001b[36m   0\u001b[0m │ \u001b[36m    0\u001b[0m │ \u001b[36m    0\u001b[0m │ \u001b[36m    1\u001b[0m │ \u001b[32m▇    ▁\u001b[0m │  │\n",
       "│ │ \u001b[38;5;141mdistance          \u001b[0m │ \u001b[36m 143\u001b[0m │ \u001b[36m  1.43\u001b[0m │ \u001b[36m    1002\u001b[0m │ \u001b[36m   575.9\u001b[0m │ \u001b[36m  10.03\u001b[0m │ \u001b[36m 503\u001b[0m │ \u001b[36m 1003\u001b[0m │ \u001b[36m 1500\u001b[0m │ \u001b[36m 2000\u001b[0m │ \u001b[32m▇▇▇▇▇▇\u001b[0m │  │\n",
       "│ └────────────────────┴──────┴────────┴──────────┴──────────┴─────────┴──────┴───────┴───────┴───────┴────────┘  │\n",
       "│ \u001b[3m                                                    string                                                    \u001b[0m  │\n",
       "│ ┏━━━━━━━━━━━━━━━━━━━━━━━━━━━━━━━━━━━━┳━━━━━━━━┳━━━━━━━━━━━┳━━━━━━━━━━━━━━━━━━━━━━━━━━━┳━━━━━━━━━━━━━━━━━━━━━━┓  │\n",
       "│ ┃\u001b[1m \u001b[0m\u001b[1mcolumn_name                       \u001b[0m\u001b[1m \u001b[0m┃\u001b[1m \u001b[0m\u001b[1mNA    \u001b[0m\u001b[1m \u001b[0m┃\u001b[1m \u001b[0m\u001b[1mNA %     \u001b[0m\u001b[1m \u001b[0m┃\u001b[1m \u001b[0m\u001b[1mwords per row            \u001b[0m\u001b[1m \u001b[0m┃\u001b[1m \u001b[0m\u001b[1mtotal words         \u001b[0m\u001b[1m \u001b[0m┃  │\n",
       "│ ┡━━━━━━━━━━━━━━━━━━━━━━━━━━━━━━━━━━━━╇━━━━━━━━╇━━━━━━━━━━━╇━━━━━━━━━━━━━━━━━━━━━━━━━━━╇━━━━━━━━━━━━━━━━━━━━━━┩  │\n",
       "│ │ \u001b[38;5;141mcarrier                           \u001b[0m │ \u001b[36m     0\u001b[0m │ \u001b[36m        0\u001b[0m │ \u001b[36m                        1\u001b[0m │ \u001b[36m               10000\u001b[0m │  │\n",
       "│ │ \u001b[38;5;141mshipping_method                   \u001b[0m │ \u001b[36m     0\u001b[0m │ \u001b[36m        0\u001b[0m │ \u001b[36m                        1\u001b[0m │ \u001b[36m               10000\u001b[0m │  │\n",
       "│ │ \u001b[38;5;141mpackage_type                      \u001b[0m │ \u001b[36m     0\u001b[0m │ \u001b[36m        0\u001b[0m │ \u001b[36m                        1\u001b[0m │ \u001b[36m               10000\u001b[0m │  │\n",
       "│ │ \u001b[38;5;141mlocation                          \u001b[0m │ \u001b[36m     0\u001b[0m │ \u001b[36m        0\u001b[0m │ \u001b[36m                        1\u001b[0m │ \u001b[36m               10000\u001b[0m │  │\n",
       "│ │ \u001b[38;5;141mcustomer_tier                     \u001b[0m │ \u001b[36m     0\u001b[0m │ \u001b[36m        0\u001b[0m │ \u001b[36m                        1\u001b[0m │ \u001b[36m               10000\u001b[0m │  │\n",
       "│ │ \u001b[38;5;141mweather_conditions                \u001b[0m │ \u001b[36m     0\u001b[0m │ \u001b[36m        0\u001b[0m │ \u001b[36m                        1\u001b[0m │ \u001b[36m               10000\u001b[0m │  │\n",
       "│ │ \u001b[38;5;141mholiday_period                    \u001b[0m │ \u001b[36m     0\u001b[0m │ \u001b[36m        0\u001b[0m │ \u001b[36m                        1\u001b[0m │ \u001b[36m               10000\u001b[0m │  │\n",
       "│ │ \u001b[38;5;141mpop_density                       \u001b[0m │ \u001b[36m     0\u001b[0m │ \u001b[36m        0\u001b[0m │ \u001b[36m                        1\u001b[0m │ \u001b[36m               10000\u001b[0m │  │\n",
       "│ └────────────────────────────────────┴────────┴───────────┴───────────────────────────┴──────────────────────┘  │\n",
       "╰────────────────────────────────────────────────────── End ──────────────────────────────────────────────────────╯\n"
      ]
     },
     "metadata": {},
     "output_type": "display_data"
    }
   ],
   "source": [
    "skim(master_df)"
   ]
  },
  {
   "cell_type": "code",
   "execution_count": 14,
   "metadata": {},
   "outputs": [
    {
     "data": {
      "text/plain": [
       "<Axes: xlabel='distance', ylabel='Count'>"
      ]
     },
     "execution_count": 14,
     "metadata": {},
     "output_type": "execute_result"
    },
    {
     "data": {
      "image/png": "[encoded data removed]",
      "text/plain": [
       "<Figure size 640x480 with 1 Axes>"
      ]
     },
     "metadata": {},
     "output_type": "display_data"
    }
   ],
   "source": [
    "sns.histplot(data=master_df, x='distance',bins=25)"
   ]
  },
  {
   "cell_type": "code",
   "execution_count": 15,
   "metadata": {},
   "outputs": [
    {
     "data": {
      "text/plain": [
       "Index(['shipment_issue', 'carrier', 'shipping_method', 'distance',\n",
       "       'package_type', 'location', 'customer_tier', 'weather_conditions',\n",
       "       'holiday_period', 'pop_density'],\n",
       "      dtype='object')"
      ]
     },
     "execution_count": 15,
     "metadata": {},
     "output_type": "execute_result"
    }
   ],
   "source": [
    "master_df.columns"
   ]
  },
  {
   "cell_type": "code",
   "execution_count": 18,
   "metadata": {},
   "outputs": [
    {
     "name": "stdout",
     "output_type": "stream",
     "text": [
      "shipment_issue\n",
      "shipment_issue\n",
      "0    9071\n",
      "1     929\n",
      "Name: count, dtype: int64\n",
      "\n",
      "carrier\n",
      "carrier\n",
      "Carrier_A    6121\n",
      "Carrier_B    2387\n",
      "Carrier_C    1492\n",
      "Name: count, dtype: int64\n",
      "\n",
      "shipping_method\n",
      "shipping_method\n",
      "Standard     6955\n",
      "Expedited    3045\n",
      "Name: count, dtype: int64\n",
      "\n",
      "distance\n",
      "distance\n",
      "300.268335     1\n",
      "11.621088      1\n",
      "363.360787     1\n",
      "734.324458     1\n",
      "366.162803     1\n",
      "              ..\n",
      "1264.935574    1\n",
      "1113.317340    1\n",
      "1260.097578    1\n",
      "1256.912213    1\n",
      "1814.614166    1\n",
      "Name: count, Length: 9857, dtype: int64\n",
      "\n",
      "package_type\n",
      "package_type\n",
      "Medium    5023\n",
      "Large     4977\n",
      "Name: count, dtype: int64\n",
      "\n",
      "location\n",
      "location\n",
      "Suburban    3391\n",
      "Urban       3325\n",
      "Rural       3284\n",
      "Name: count, dtype: int64\n",
      "\n",
      "customer_tier\n",
      "customer_tier\n",
      "Basic      7998\n",
      "Premium    2002\n",
      "Name: count, dtype: int64\n",
      "\n",
      "weather_conditions\n",
      "weather_conditions\n",
      "Clear    7530\n",
      "Rain     1474\n",
      "Snow      996\n",
      "Name: count, dtype: int64\n",
      "\n",
      "holiday_period\n",
      "holiday_period\n",
      "Holiday_Period_No     9051\n",
      "Holiday_Period_Yes     949\n",
      "Name: count, dtype: int64\n",
      "\n",
      "pop_density\n",
      "pop_density\n",
      "Medium    3392\n",
      "High      3324\n",
      "Low       3284\n",
      "Name: count, dtype: int64\n",
      "\n"
     ]
    },
    {
     "name": "stderr",
     "output_type": "stream",
     "text": [
      "/tmp/ipykernel_940254/4058676440.py:3: FutureWarning: pandas.value_counts is deprecated and will be removed in a future version. Use pd.Series(obj).value_counts() instead.\n",
      "  print(pd.value_counts(master_df[col]))\n",
      "/tmp/ipykernel_940254/4058676440.py:3: FutureWarning: pandas.value_counts is deprecated and will be removed in a future version. Use pd.Series(obj).value_counts() instead.\n",
      "  print(pd.value_counts(master_df[col]))\n",
      "/tmp/ipykernel_940254/4058676440.py:3: FutureWarning: pandas.value_counts is deprecated and will be removed in a future version. Use pd.Series(obj).value_counts() instead.\n",
      "  print(pd.value_counts(master_df[col]))\n",
      "/tmp/ipykernel_940254/4058676440.py:3: FutureWarning: pandas.value_counts is deprecated and will be removed in a future version. Use pd.Series(obj).value_counts() instead.\n",
      "  print(pd.value_counts(master_df[col]))\n",
      "/tmp/ipykernel_940254/4058676440.py:3: FutureWarning: pandas.value_counts is deprecated and will be removed in a future version. Use pd.Series(obj).value_counts() instead.\n",
      "  print(pd.value_counts(master_df[col]))\n",
      "/tmp/ipykernel_940254/4058676440.py:3: FutureWarning: pandas.value_counts is deprecated and will be removed in a future version. Use pd.Series(obj).value_counts() instead.\n",
      "  print(pd.value_counts(master_df[col]))\n",
      "/tmp/ipykernel_940254/4058676440.py:3: FutureWarning: pandas.value_counts is deprecated and will be removed in a future version. Use pd.Series(obj).value_counts() instead.\n",
      "  print(pd.value_counts(master_df[col]))\n",
      "/tmp/ipykernel_940254/4058676440.py:3: FutureWarning: pandas.value_counts is deprecated and will be removed in a future version. Use pd.Series(obj).value_counts() instead.\n",
      "  print(pd.value_counts(master_df[col]))\n"
     ]
    }
   ],
   "source": [
    "for col in master_df.columns:\n",
    "    print(col)\n",
    "    print(pd.value_counts(master_df[col]))\n",
    "    print()\n",
    "    "
   ]
  },
  {
   "cell_type": "code",
   "execution_count": 19,
   "metadata": {},
   "outputs": [
    {
     "data": {
      "text/html": [
       "<div>\n",
       "<style scoped>\n",
       "    .dataframe tbody tr th:only-of-type {\n",
       "        vertical-align: middle;\n",
       "    }\n",
       "\n",
       "    .dataframe tbody tr th {\n",
       "        vertical-align: top;\n",
       "    }\n",
       "\n",
       "    .dataframe thead th {\n",
       "        text-align: right;\n",
       "    }\n",
       "</style>\n",
       "<table border=\"1\" class=\"dataframe\">\n",
       "  <thead>\n",
       "    <tr style=\"text-align: right;\">\n",
       "      <th></th>\n",
       "      <th>shipment_issue</th>\n",
       "      <th>carrier</th>\n",
       "      <th>shipping_method</th>\n",
       "      <th>distance</th>\n",
       "      <th>package_type</th>\n",
       "      <th>location</th>\n",
       "      <th>customer_tier</th>\n",
       "      <th>weather_conditions</th>\n",
       "      <th>holiday_period</th>\n",
       "      <th>pop_density</th>\n",
       "    </tr>\n",
       "  </thead>\n",
       "  <tbody>\n",
       "    <tr>\n",
       "      <th>0</th>\n",
       "      <td>0</td>\n",
       "      <td>Carrier_C</td>\n",
       "      <td>Expedited</td>\n",
       "      <td>300.268335</td>\n",
       "      <td>Medium</td>\n",
       "      <td>Suburban</td>\n",
       "      <td>Basic</td>\n",
       "      <td>Clear</td>\n",
       "      <td>Holiday_Period_No</td>\n",
       "      <td>Medium</td>\n",
       "    </tr>\n",
       "    <tr>\n",
       "      <th>1</th>\n",
       "      <td>0</td>\n",
       "      <td>Carrier_C</td>\n",
       "      <td>Standard</td>\n",
       "      <td>1430.088462</td>\n",
       "      <td>Medium</td>\n",
       "      <td>Rural</td>\n",
       "      <td>Basic</td>\n",
       "      <td>Clear</td>\n",
       "      <td>Holiday_Period_No</td>\n",
       "      <td>Low</td>\n",
       "    </tr>\n",
       "    <tr>\n",
       "      <th>2</th>\n",
       "      <td>0</td>\n",
       "      <td>Carrier_A</td>\n",
       "      <td>Expedited</td>\n",
       "      <td>1007.817178</td>\n",
       "      <td>Medium</td>\n",
       "      <td>Suburban</td>\n",
       "      <td>Basic</td>\n",
       "      <td>Clear</td>\n",
       "      <td>Holiday_Period_No</td>\n",
       "      <td>Medium</td>\n",
       "    </tr>\n",
       "    <tr>\n",
       "      <th>3</th>\n",
       "      <td>0</td>\n",
       "      <td>Carrier_A</td>\n",
       "      <td>Standard</td>\n",
       "      <td>143.138222</td>\n",
       "      <td>Large</td>\n",
       "      <td>Rural</td>\n",
       "      <td>Basic</td>\n",
       "      <td>Clear</td>\n",
       "      <td>Holiday_Period_No</td>\n",
       "      <td>Low</td>\n",
       "    </tr>\n",
       "    <tr>\n",
       "      <th>4</th>\n",
       "      <td>0</td>\n",
       "      <td>Carrier_B</td>\n",
       "      <td>Expedited</td>\n",
       "      <td>40.525166</td>\n",
       "      <td>Medium</td>\n",
       "      <td>Suburban</td>\n",
       "      <td>Basic</td>\n",
       "      <td>Clear</td>\n",
       "      <td>Holiday_Period_No</td>\n",
       "      <td>Medium</td>\n",
       "    </tr>\n",
       "    <tr>\n",
       "      <th>...</th>\n",
       "      <td>...</td>\n",
       "      <td>...</td>\n",
       "      <td>...</td>\n",
       "      <td>...</td>\n",
       "      <td>...</td>\n",
       "      <td>...</td>\n",
       "      <td>...</td>\n",
       "      <td>...</td>\n",
       "      <td>...</td>\n",
       "      <td>...</td>\n",
       "    </tr>\n",
       "    <tr>\n",
       "      <th>9995</th>\n",
       "      <td>0</td>\n",
       "      <td>Carrier_B</td>\n",
       "      <td>Standard</td>\n",
       "      <td>640.979312</td>\n",
       "      <td>Medium</td>\n",
       "      <td>Suburban</td>\n",
       "      <td>Basic</td>\n",
       "      <td>Snow</td>\n",
       "      <td>Holiday_Period_Yes</td>\n",
       "      <td>Medium</td>\n",
       "    </tr>\n",
       "    <tr>\n",
       "      <th>9996</th>\n",
       "      <td>0</td>\n",
       "      <td>Carrier_A</td>\n",
       "      <td>Expedited</td>\n",
       "      <td>1992.135769</td>\n",
       "      <td>Large</td>\n",
       "      <td>Suburban</td>\n",
       "      <td>Basic</td>\n",
       "      <td>Clear</td>\n",
       "      <td>Holiday_Period_Yes</td>\n",
       "      <td>Medium</td>\n",
       "    </tr>\n",
       "    <tr>\n",
       "      <th>9997</th>\n",
       "      <td>0</td>\n",
       "      <td>Carrier_A</td>\n",
       "      <td>Expedited</td>\n",
       "      <td>30.531525</td>\n",
       "      <td>Medium</td>\n",
       "      <td>Urban</td>\n",
       "      <td>Basic</td>\n",
       "      <td>Clear</td>\n",
       "      <td>Holiday_Period_No</td>\n",
       "      <td>High</td>\n",
       "    </tr>\n",
       "    <tr>\n",
       "      <th>9998</th>\n",
       "      <td>0</td>\n",
       "      <td>Carrier_C</td>\n",
       "      <td>Standard</td>\n",
       "      <td>1621.989508</td>\n",
       "      <td>Large</td>\n",
       "      <td>Suburban</td>\n",
       "      <td>Basic</td>\n",
       "      <td>Clear</td>\n",
       "      <td>Holiday_Period_No</td>\n",
       "      <td>Medium</td>\n",
       "    </tr>\n",
       "    <tr>\n",
       "      <th>9999</th>\n",
       "      <td>0</td>\n",
       "      <td>Carrier_A</td>\n",
       "      <td>Standard</td>\n",
       "      <td>1814.614166</td>\n",
       "      <td>Medium</td>\n",
       "      <td>Rural</td>\n",
       "      <td>Basic</td>\n",
       "      <td>Clear</td>\n",
       "      <td>Holiday_Period_No</td>\n",
       "      <td>Low</td>\n",
       "    </tr>\n",
       "  </tbody>\n",
       "</table>\n",
       "<p>10000 rows × 10 columns</p>\n",
       "</div>"
      ],
      "text/plain": [
       "      shipment_issue    carrier  ...      holiday_period  pop_density\n",
       "0                  0  Carrier_C  ...   Holiday_Period_No       Medium\n",
       "1                  0  Carrier_C  ...   Holiday_Period_No          Low\n",
       "2                  0  Carrier_A  ...   Holiday_Period_No       Medium\n",
       "3                  0  Carrier_A  ...   Holiday_Period_No          Low\n",
       "4                  0  Carrier_B  ...   Holiday_Period_No       Medium\n",
       "...              ...        ...  ...                 ...          ...\n",
       "9995               0  Carrier_B  ...  Holiday_Period_Yes       Medium\n",
       "9996               0  Carrier_A  ...  Holiday_Period_Yes       Medium\n",
       "9997               0  Carrier_A  ...   Holiday_Period_No         High\n",
       "9998               0  Carrier_C  ...   Holiday_Period_No       Medium\n",
       "9999               0  Carrier_A  ...   Holiday_Period_No          Low\n",
       "\n",
       "[10000 rows x 10 columns]"
      ]
     },
     "execution_count": 19,
     "metadata": {},
     "output_type": "execute_result"
    }
   ],
   "source": [
    "master_df"
   ]
  },
  {
   "cell_type": "code",
   "execution_count": 20,
   "metadata": {},
   "outputs": [
    {
     "data": {
      "text/plain": [
       "Index(['shipment_issue', 'carrier', 'shipping_method', 'distance',\n",
       "       'package_type', 'location', 'customer_tier', 'weather_conditions',\n",
       "       'holiday_period', 'pop_density'],\n",
       "      dtype='object')"
      ]
     },
     "execution_count": 20,
     "metadata": {},
     "output_type": "execute_result"
    }
   ],
   "source": [
    "master_df.columns"
   ]
  },
  {
   "cell_type": "code",
   "execution_count": 21,
   "metadata": {},
   "outputs": [
    {
     "data": {
      "text/plain": [
       "<Axes: xlabel='carrier', ylabel='count'>"
      ]
     },
     "execution_count": 21,
     "metadata": {},
     "output_type": "execute_result"
    },
    {
     "data": {
      "image/png": "[encoded data removed]",
      "text/plain": [
       "<Figure size 640x480 with 1 Axes>"
      ]
     },
     "metadata": {},
     "output_type": "display_data"
    }
   ],
   "source": [
    "sns.countplot(data=master_df, x='carrier')"
   ]
  },
  {
   "cell_type": "code",
   "execution_count": 22,
   "metadata": {},
   "outputs": [
    {
     "data": {
      "text/plain": [
       "<Axes: xlabel='package_type', ylabel='count'>"
      ]
     },
     "execution_count": 22,
     "metadata": {},
     "output_type": "execute_result"
    },
    {
     "data": {
      "image/png": "[encoded data removed]",
      "text/plain": [
       "<Figure size 640x480 with 1 Axes>"
      ]
     },
     "metadata": {},
     "output_type": "display_data"
    }
   ],
   "source": [
    "sns.countplot(data=master_df, x='package_type')"
   ]
  },
  {
   "cell_type": "code",
   "execution_count": 23,
   "metadata": {},
   "outputs": [
    {
     "data": {
      "text/plain": [
       "<Axes: xlabel='location', ylabel='count'>"
      ]
     },
     "execution_count": 23,
     "metadata": {},
     "output_type": "execute_result"
    },
    {
     "data": {
      "image/png": "[encoded data removed]",
      "text/plain": [
       "<Figure size 640x480 with 1 Axes>"
      ]
     },
     "metadata": {},
     "output_type": "display_data"
    }
   ],
   "source": [
    "sns.countplot(data=master_df, x='location')"
   ]
  },
  {
   "cell_type": "code",
   "execution_count": 74,
   "metadata": {},
   "outputs": [
    {
     "data": {
      "text/html": [
       "<div>\n",
       "<style scoped>\n",
       "    .dataframe tbody tr th:only-of-type {\n",
       "        vertical-align: middle;\n",
       "    }\n",
       "\n",
       "    .dataframe tbody tr th {\n",
       "        vertical-align: top;\n",
       "    }\n",
       "\n",
       "    .dataframe thead th {\n",
       "        text-align: right;\n",
       "    }\n",
       "</style>\n",
       "<table border=\"1\" class=\"dataframe\">\n",
       "  <thead>\n",
       "    <tr style=\"text-align: right;\">\n",
       "      <th></th>\n",
       "      <th>shipment_issue</th>\n",
       "      <th>carrier</th>\n",
       "      <th>shipping_method</th>\n",
       "      <th>distance</th>\n",
       "      <th>package_type</th>\n",
       "      <th>location</th>\n",
       "      <th>customer_tier</th>\n",
       "      <th>weather_conditions</th>\n",
       "      <th>holiday_period</th>\n",
       "      <th>pop_density</th>\n",
       "    </tr>\n",
       "  </thead>\n",
       "  <tbody>\n",
       "    <tr>\n",
       "      <th>0</th>\n",
       "      <td>0</td>\n",
       "      <td>Carrier_C</td>\n",
       "      <td>Expedited</td>\n",
       "      <td>300.268335</td>\n",
       "      <td>Medium</td>\n",
       "      <td>Suburban</td>\n",
       "      <td>Basic</td>\n",
       "      <td>Clear</td>\n",
       "      <td>Holiday_Period_No</td>\n",
       "      <td>Medium</td>\n",
       "    </tr>\n",
       "    <tr>\n",
       "      <th>1</th>\n",
       "      <td>0</td>\n",
       "      <td>Carrier_C</td>\n",
       "      <td>Standard</td>\n",
       "      <td>1430.088462</td>\n",
       "      <td>Medium</td>\n",
       "      <td>Rural</td>\n",
       "      <td>Basic</td>\n",
       "      <td>Clear</td>\n",
       "      <td>Holiday_Period_No</td>\n",
       "      <td>Low</td>\n",
       "    </tr>\n",
       "    <tr>\n",
       "      <th>2</th>\n",
       "      <td>0</td>\n",
       "      <td>Carrier_A</td>\n",
       "      <td>Expedited</td>\n",
       "      <td>1007.817178</td>\n",
       "      <td>Medium</td>\n",
       "      <td>Suburban</td>\n",
       "      <td>Basic</td>\n",
       "      <td>Clear</td>\n",
       "      <td>Holiday_Period_No</td>\n",
       "      <td>Medium</td>\n",
       "    </tr>\n",
       "    <tr>\n",
       "      <th>3</th>\n",
       "      <td>0</td>\n",
       "      <td>Carrier_A</td>\n",
       "      <td>Standard</td>\n",
       "      <td>143.138222</td>\n",
       "      <td>Large</td>\n",
       "      <td>Rural</td>\n",
       "      <td>Basic</td>\n",
       "      <td>Clear</td>\n",
       "      <td>Holiday_Period_No</td>\n",
       "      <td>Low</td>\n",
       "    </tr>\n",
       "    <tr>\n",
       "      <th>4</th>\n",
       "      <td>0</td>\n",
       "      <td>Carrier_B</td>\n",
       "      <td>Expedited</td>\n",
       "      <td>40.525166</td>\n",
       "      <td>Medium</td>\n",
       "      <td>Suburban</td>\n",
       "      <td>Basic</td>\n",
       "      <td>Clear</td>\n",
       "      <td>Holiday_Period_No</td>\n",
       "      <td>Medium</td>\n",
       "    </tr>\n",
       "    <tr>\n",
       "      <th>...</th>\n",
       "      <td>...</td>\n",
       "      <td>...</td>\n",
       "      <td>...</td>\n",
       "      <td>...</td>\n",
       "      <td>...</td>\n",
       "      <td>...</td>\n",
       "      <td>...</td>\n",
       "      <td>...</td>\n",
       "      <td>...</td>\n",
       "      <td>...</td>\n",
       "    </tr>\n",
       "    <tr>\n",
       "      <th>9995</th>\n",
       "      <td>0</td>\n",
       "      <td>Carrier_B</td>\n",
       "      <td>Standard</td>\n",
       "      <td>640.979312</td>\n",
       "      <td>Medium</td>\n",
       "      <td>Suburban</td>\n",
       "      <td>Basic</td>\n",
       "      <td>Snow</td>\n",
       "      <td>Holiday_Period_Yes</td>\n",
       "      <td>Medium</td>\n",
       "    </tr>\n",
       "    <tr>\n",
       "      <th>9996</th>\n",
       "      <td>0</td>\n",
       "      <td>Carrier_A</td>\n",
       "      <td>Expedited</td>\n",
       "      <td>1992.135769</td>\n",
       "      <td>Large</td>\n",
       "      <td>Suburban</td>\n",
       "      <td>Basic</td>\n",
       "      <td>Clear</td>\n",
       "      <td>Holiday_Period_Yes</td>\n",
       "      <td>Medium</td>\n",
       "    </tr>\n",
       "    <tr>\n",
       "      <th>9997</th>\n",
       "      <td>0</td>\n",
       "      <td>Carrier_A</td>\n",
       "      <td>Expedited</td>\n",
       "      <td>30.531525</td>\n",
       "      <td>Medium</td>\n",
       "      <td>Urban</td>\n",
       "      <td>Basic</td>\n",
       "      <td>Clear</td>\n",
       "      <td>Holiday_Period_No</td>\n",
       "      <td>High</td>\n",
       "    </tr>\n",
       "    <tr>\n",
       "      <th>9998</th>\n",
       "      <td>0</td>\n",
       "      <td>Carrier_C</td>\n",
       "      <td>Standard</td>\n",
       "      <td>1621.989508</td>\n",
       "      <td>Large</td>\n",
       "      <td>Suburban</td>\n",
       "      <td>Basic</td>\n",
       "      <td>Clear</td>\n",
       "      <td>Holiday_Period_No</td>\n",
       "      <td>Medium</td>\n",
       "    </tr>\n",
       "    <tr>\n",
       "      <th>9999</th>\n",
       "      <td>0</td>\n",
       "      <td>Carrier_A</td>\n",
       "      <td>Standard</td>\n",
       "      <td>1814.614166</td>\n",
       "      <td>Medium</td>\n",
       "      <td>Rural</td>\n",
       "      <td>Basic</td>\n",
       "      <td>Clear</td>\n",
       "      <td>Holiday_Period_No</td>\n",
       "      <td>Low</td>\n",
       "    </tr>\n",
       "  </tbody>\n",
       "</table>\n",
       "<p>10000 rows × 10 columns</p>\n",
       "</div>"
      ],
      "text/plain": [
       "      shipment_issue    carrier shipping_method     distance package_type  \\\n",
       "0                  0  Carrier_C       Expedited   300.268335       Medium   \n",
       "1                  0  Carrier_C        Standard  1430.088462       Medium   \n",
       "2                  0  Carrier_A       Expedited  1007.817178       Medium   \n",
       "3                  0  Carrier_A        Standard   143.138222        Large   \n",
       "4                  0  Carrier_B       Expedited    40.525166       Medium   \n",
       "...              ...        ...             ...          ...          ...   \n",
       "9995               0  Carrier_B        Standard   640.979312       Medium   \n",
       "9996               0  Carrier_A       Expedited  1992.135769        Large   \n",
       "9997               0  Carrier_A       Expedited    30.531525       Medium   \n",
       "9998               0  Carrier_C        Standard  1621.989508        Large   \n",
       "9999               0  Carrier_A        Standard  1814.614166       Medium   \n",
       "\n",
       "      location customer_tier weather_conditions      holiday_period  \\\n",
       "0     Suburban         Basic              Clear   Holiday_Period_No   \n",
       "1        Rural         Basic              Clear   Holiday_Period_No   \n",
       "2     Suburban         Basic              Clear   Holiday_Period_No   \n",
       "3        Rural         Basic              Clear   Holiday_Period_No   \n",
       "4     Suburban         Basic              Clear   Holiday_Period_No   \n",
       "...        ...           ...                ...                 ...   \n",
       "9995  Suburban         Basic               Snow  Holiday_Period_Yes   \n",
       "9996  Suburban         Basic              Clear  Holiday_Period_Yes   \n",
       "9997     Urban         Basic              Clear   Holiday_Period_No   \n",
       "9998  Suburban         Basic              Clear   Holiday_Period_No   \n",
       "9999     Rural         Basic              Clear   Holiday_Period_No   \n",
       "\n",
       "     pop_density  \n",
       "0         Medium  \n",
       "1            Low  \n",
       "2         Medium  \n",
       "3            Low  \n",
       "4         Medium  \n",
       "...          ...  \n",
       "9995      Medium  \n",
       "9996      Medium  \n",
       "9997        High  \n",
       "9998      Medium  \n",
       "9999         Low  \n",
       "\n",
       "[10000 rows x 10 columns]"
      ]
     },
     "execution_count": 74,
     "metadata": {},
     "output_type": "execute_result"
    }
   ],
   "source": [
    "pd.read_csv('classification_task.csv')"
   ]
  },
  {
   "cell_type": "code",
   "execution_count": 24,
   "metadata": {},
   "outputs": [
    {
     "data": {
      "text/plain": [
       "<Axes: xlabel='weather_conditions', ylabel='count'>"
      ]
     },
     "execution_count": 24,
     "metadata": {},
     "output_type": "execute_result"
    },
    {
     "data": {
      "image/png": "[encoded data removed]",
      "text/plain": [
       "<Figure size 640x480 with 1 Axes>"
      ]
     },
     "metadata": {},
     "output_type": "display_data"
    }
   ],
   "source": [
    "sns.countplot(data=master_df, x='weather_conditions')"
   ]
  },
  {
   "cell_type": "code",
   "execution_count": 46,
   "metadata": {},
   "outputs": [
    {
     "data": {
      "text/plain": [
       "Index(['shipment_issue', 'carrier', 'shipping_method', 'distance',\n",
       "       'package_type', 'location', 'customer_tier', 'weather_conditions',\n",
       "       'holiday_period', 'pop_density'],\n",
       "      dtype='object')"
      ]
     },
     "execution_count": 46,
     "metadata": {},
     "output_type": "execute_result"
    }
   ],
   "source": [
    "master_df.columns"
   ]
  },
  {
   "cell_type": "code",
   "execution_count": 50,
   "metadata": {},
   "outputs": [
    {
     "data": {
      "text/plain": [
       "array(['Basic', 'Premium'], dtype=object)"
      ]
     },
     "execution_count": 50,
     "metadata": {},
     "output_type": "execute_result"
    }
   ],
   "source": [
    "master_df['customer_tier'].unique()"
   ]
  },
  {
   "cell_type": "code",
   "execution_count": 51,
   "metadata": {},
   "outputs": [],
   "source": [
    "# variables to OHE: carrier, package_type"
   ]
  },
  {
   "cell_type": "code",
   "execution_count": 10,
   "metadata": {},
   "outputs": [],
   "source": [
    "drop_enc = OneHotEncoder(drop='first').fit(pd.DataFrame(master_df['carrier']))\n",
    "new_values = drop_enc.transform(pd.DataFrame(master_df['carrier'])).toarray()"
   ]
  },
  {
   "cell_type": "code",
   "execution_count": 11,
   "metadata": {},
   "outputs": [],
   "source": [
    "df = master_df.drop('carrier',axis=1)"
   ]
  },
  {
   "cell_type": "code",
   "execution_count": 12,
   "metadata": {},
   "outputs": [],
   "source": [
    "df[drop_enc.get_feature_names_out()[0]] = new_values[:,0]\n",
    "df[drop_enc.get_feature_names_out()[1]] = new_values[:,1]"
   ]
  },
  {
   "cell_type": "code",
   "execution_count": 13,
   "metadata": {},
   "outputs": [],
   "source": [
    "def encode_size(x):\n",
    "    \n",
    "    size_dict = {\n",
    "        'Medium':0,\n",
    "        'Large':1\n",
    "    }\n",
    "    \n",
    "    return size_dict[x]"
   ]
  },
  {
   "cell_type": "code",
   "execution_count": 82,
   "metadata": {},
   "outputs": [
    {
     "data": {
      "text/plain": [
       "array(['Expedited', 'Standard'], dtype=object)"
      ]
     },
     "execution_count": 82,
     "metadata": {},
     "output_type": "execute_result"
    }
   ],
   "source": [
    "df['shipping_method'].unique()"
   ]
  },
  {
   "cell_type": "code",
   "execution_count": 14,
   "metadata": {},
   "outputs": [],
   "source": [
    "def encode_shipping(x):\n",
    "    \n",
    "    size_dict = {\n",
    "        'Expedited':0,\n",
    "        'Standard':1\n",
    "    }\n",
    "    \n",
    "    return size_dict[x]"
   ]
  },
  {
   "cell_type": "code",
   "execution_count": 87,
   "metadata": {},
   "outputs": [
    {
     "data": {
      "text/plain": [
       "0        Holiday_Period_No\n",
       "1        Holiday_Period_No\n",
       "2        Holiday_Period_No\n",
       "3        Holiday_Period_No\n",
       "4        Holiday_Period_No\n",
       "               ...        \n",
       "9995    Holiday_Period_Yes\n",
       "9996    Holiday_Period_Yes\n",
       "9997     Holiday_Period_No\n",
       "9998     Holiday_Period_No\n",
       "9999     Holiday_Period_No\n",
       "Name: holiday_period, Length: 10000, dtype: object"
      ]
     },
     "execution_count": 87,
     "metadata": {},
     "output_type": "execute_result"
    }
   ],
   "source": [
    "df['holiday_period']"
   ]
  },
  {
   "cell_type": "code",
   "execution_count": 15,
   "metadata": {},
   "outputs": [],
   "source": [
    "def encode_holiday(x):\n",
    "    \n",
    "    size_dict = {\n",
    "        'Holiday_Period_No':0,\n",
    "        'Holiday_Period_Yes':1\n",
    "    }\n",
    "    \n",
    "    return size_dict[x]"
   ]
  },
  {
   "cell_type": "code",
   "execution_count": 16,
   "metadata": {},
   "outputs": [],
   "source": [
    "def encode_weather(x):\n",
    "    \n",
    "    size_dict = {\n",
    "        'Clear':0,\n",
    "        'Rain':1,\n",
    "        'Snow':2\n",
    "    }\n",
    "    \n",
    "    return size_dict[x]"
   ]
  },
  {
   "cell_type": "code",
   "execution_count": 17,
   "metadata": {},
   "outputs": [],
   "source": [
    "def encode_population(x):\n",
    "    \n",
    "    size_dict = {\n",
    "        'Low':0,\n",
    "        'Medium':1,\n",
    "        'High':2\n",
    "    }\n",
    "    \n",
    "    return size_dict[x]"
   ]
  },
  {
   "cell_type": "code",
   "execution_count": 99,
   "metadata": {},
   "outputs": [
    {
     "data": {
      "text/plain": [
       "array(['Medium', 'Low', 'High'], dtype=object)"
      ]
     },
     "execution_count": 99,
     "metadata": {},
     "output_type": "execute_result"
    }
   ],
   "source": [
    "df['pop_density'].unique()"
   ]
  },
  {
   "cell_type": "code",
   "execution_count": 18,
   "metadata": {},
   "outputs": [],
   "source": [
    "def encode_customer(x):\n",
    "    \n",
    "    size_dict = {\n",
    "        'Basic':1,\n",
    "        'Premium':0\n",
    "    }\n",
    "    \n",
    "    return size_dict[x]"
   ]
  },
  {
   "cell_type": "code",
   "execution_count": 19,
   "metadata": {},
   "outputs": [],
   "source": [
    "def encode_town(x):\n",
    "    \n",
    "    size_dict = {\n",
    "        'Rural':0,\n",
    "        'Suburban':1,\n",
    "        'Urban':2\n",
    "    }\n",
    "    \n",
    "    return size_dict[x]"
   ]
  },
  {
   "cell_type": "code",
   "execution_count": 20,
   "metadata": {},
   "outputs": [],
   "source": [
    "df['package_type'] = df['package_type'].apply(encode_size)"
   ]
  },
  {
   "cell_type": "code",
   "execution_count": 21,
   "metadata": {},
   "outputs": [],
   "source": [
    "df['shipping_method'] = df['shipping_method'].apply(encode_shipping)"
   ]
  },
  {
   "cell_type": "code",
   "execution_count": 22,
   "metadata": {},
   "outputs": [],
   "source": [
    "df['holiday_period'] = df['holiday_period'].apply(encode_holiday)"
   ]
  },
  {
   "cell_type": "code",
   "execution_count": 23,
   "metadata": {},
   "outputs": [],
   "source": [
    "df['customer_tier'] = df['customer_tier'].apply(encode_customer)"
   ]
  },
  {
   "cell_type": "code",
   "execution_count": 24,
   "metadata": {},
   "outputs": [],
   "source": [
    "df['weather_conditions'] = df['weather_conditions'].apply(encode_weather)"
   ]
  },
  {
   "cell_type": "code",
   "execution_count": 25,
   "metadata": {},
   "outputs": [],
   "source": [
    "df['pop_density'] = df['pop_density'].apply(encode_population)"
   ]
  },
  {
   "cell_type": "code",
   "execution_count": 26,
   "metadata": {},
   "outputs": [],
   "source": [
    "df['location'] = df['location'].apply(encode_town)"
   ]
  },
  {
   "cell_type": "code",
   "execution_count": 111,
   "metadata": {},
   "outputs": [
    {
     "data": {
      "text/plain": [
       "array(['Suburban', 'Rural', 'Urban'], dtype=object)"
      ]
     },
     "execution_count": 111,
     "metadata": {},
     "output_type": "execute_result"
    }
   ],
   "source": [
    "df['location'].unique()"
   ]
  },
  {
   "cell_type": "code",
   "execution_count": 27,
   "metadata": {},
   "outputs": [],
   "source": [
    "df = df[df['distance'].isna()==False]"
   ]
  },
  {
   "cell_type": "code",
   "execution_count": 28,
   "metadata": {},
   "outputs": [],
   "source": [
    "df_train_valid, df_test = train_test_split(df, test_size=.15, stratify=df['shipment_issue'])\n",
    "X_train, X_test, y_train, y_test = train_test_split(df_train_valid.drop('shipment_issue',axis=1), df_train_valid['shipment_issue'], test_size=0.2, random_state=42)\n",
    "k = 5\n",
    "selector = SelectKBest(score_func=f_classif, k=k)\n",
    "X_train_selected = selector.fit_transform(X_train, y_train)\n",
    "X_test_selected = selector.transform(X_test)"
   ]
  },
  {
   "cell_type": "code",
   "execution_count": 50,
   "metadata": {},
   "outputs": [],
   "source": [
    "X_train, X_test, y_train, y_test = train_test_split(df_train_valid.drop('shipment_issue',axis=1), df_train_valid['shipment_issue'], test_size=0.2, random_state=42)\n",
    "k = 5\n",
    "selector = SelectKBest(score_func=f_classif, k=k)\n",
    "X_train_selected = selector.fit_transform(X_train, y_train)\n",
    "X_test_selected = selector.transform(X_test)"
   ]
  },
  {
   "cell_type": "code",
   "execution_count": 56,
   "metadata": {},
   "outputs": [],
   "source": [
    "selected_features = selector.get_support(indices=True)"
   ]
  },
  {
   "cell_type": "code",
   "execution_count": 57,
   "metadata": {},
   "outputs": [
    {
     "data": {
      "text/plain": [
       "Index(['location', 'weather_conditions', 'pop_density', 'carrier_Carrier_B',\n",
       "       'carrier_Carrier_C'],\n",
       "      dtype='object')"
      ]
     },
     "execution_count": 57,
     "metadata": {},
     "output_type": "execute_result"
    }
   ],
   "source": [
    "X_train.columns[selected_features]"
   ]
  },
  {
   "cell_type": "code",
   "execution_count": 53,
   "metadata": {},
   "outputs": [
    {
     "ename": "InvalidIndexError",
     "evalue": "(slice(None, None, None), array([3, 5, 7, 8, 9]))",
     "output_type": "error",
     "traceback": [
      "\u001b[0;31m---------------------------------------------------------------------------\u001b[0m",
      "\u001b[0;31mTypeError\u001b[0m                                 Traceback (most recent call last)",
      "File \u001b[0;32m~/.local/lib/python3.10/site-packages/pandas/core/indexes/base.py:3805\u001b[0m, in \u001b[0;36mIndex.get_loc\u001b[0;34m(self, key)\u001b[0m\n\u001b[1;32m   3804\u001b[0m \u001b[38;5;28;01mtry\u001b[39;00m:\n\u001b[0;32m-> 3805\u001b[0m     \u001b[38;5;28;01mreturn\u001b[39;00m \u001b[38;5;28;43mself\u001b[39;49m\u001b[38;5;241;43m.\u001b[39;49m\u001b[43m_engine\u001b[49m\u001b[38;5;241;43m.\u001b[39;49m\u001b[43mget_loc\u001b[49m\u001b[43m(\u001b[49m\u001b[43mcasted_key\u001b[49m\u001b[43m)\u001b[49m\n\u001b[1;32m   3806\u001b[0m \u001b[38;5;28;01mexcept\u001b[39;00m \u001b[38;5;167;01mKeyError\u001b[39;00m \u001b[38;5;28;01mas\u001b[39;00m err:\n",
      "File \u001b[0;32mindex.pyx:167\u001b[0m, in \u001b[0;36mpandas._libs.index.IndexEngine.get_loc\u001b[0;34m()\u001b[0m\n",
      "File \u001b[0;32mindex.pyx:173\u001b[0m, in \u001b[0;36mpandas._libs.index.IndexEngine.get_loc\u001b[0;34m()\u001b[0m\n",
      "\u001b[0;31mTypeError\u001b[0m: '(slice(None, None, None), array([3, 5, 7, 8, 9]))' is an invalid key",
      "\nDuring handling of the above exception, another exception occurred:\n",
      "\u001b[0;31mInvalidIndexError\u001b[0m                         Traceback (most recent call last)",
      "Cell \u001b[0;32mIn[53], line 1\u001b[0m\n\u001b[0;32m----> 1\u001b[0m \u001b[38;5;28mprint\u001b[39m(\u001b[38;5;124m\"\u001b[39m\u001b[38;5;124mSelected features in X_train:\u001b[39m\u001b[38;5;124m\"\u001b[39m, \u001b[43mX_train\u001b[49m\u001b[43m[\u001b[49m\u001b[43m:\u001b[49m\u001b[43m,\u001b[49m\u001b[43m \u001b[49m\u001b[43mselected_features\u001b[49m\u001b[43m]\u001b[49m)\n",
      "File \u001b[0;32m~/.local/lib/python3.10/site-packages/pandas/core/frame.py:4102\u001b[0m, in \u001b[0;36mDataFrame.__getitem__\u001b[0;34m(self, key)\u001b[0m\n\u001b[1;32m   4100\u001b[0m \u001b[38;5;28;01mif\u001b[39;00m \u001b[38;5;28mself\u001b[39m\u001b[38;5;241m.\u001b[39mcolumns\u001b[38;5;241m.\u001b[39mnlevels \u001b[38;5;241m>\u001b[39m \u001b[38;5;241m1\u001b[39m:\n\u001b[1;32m   4101\u001b[0m     \u001b[38;5;28;01mreturn\u001b[39;00m \u001b[38;5;28mself\u001b[39m\u001b[38;5;241m.\u001b[39m_getitem_multilevel(key)\n\u001b[0;32m-> 4102\u001b[0m indexer \u001b[38;5;241m=\u001b[39m \u001b[38;5;28;43mself\u001b[39;49m\u001b[38;5;241;43m.\u001b[39;49m\u001b[43mcolumns\u001b[49m\u001b[38;5;241;43m.\u001b[39;49m\u001b[43mget_loc\u001b[49m\u001b[43m(\u001b[49m\u001b[43mkey\u001b[49m\u001b[43m)\u001b[49m\n\u001b[1;32m   4103\u001b[0m \u001b[38;5;28;01mif\u001b[39;00m is_integer(indexer):\n\u001b[1;32m   4104\u001b[0m     indexer \u001b[38;5;241m=\u001b[39m [indexer]\n",
      "File \u001b[0;32m~/.local/lib/python3.10/site-packages/pandas/core/indexes/base.py:3817\u001b[0m, in \u001b[0;36mIndex.get_loc\u001b[0;34m(self, key)\u001b[0m\n\u001b[1;32m   3812\u001b[0m     \u001b[38;5;28;01mraise\u001b[39;00m \u001b[38;5;167;01mKeyError\u001b[39;00m(key) \u001b[38;5;28;01mfrom\u001b[39;00m \u001b[38;5;21;01merr\u001b[39;00m\n\u001b[1;32m   3813\u001b[0m \u001b[38;5;28;01mexcept\u001b[39;00m \u001b[38;5;167;01mTypeError\u001b[39;00m:\n\u001b[1;32m   3814\u001b[0m     \u001b[38;5;66;03m# If we have a listlike key, _check_indexing_error will raise\u001b[39;00m\n\u001b[1;32m   3815\u001b[0m     \u001b[38;5;66;03m#  InvalidIndexError. Otherwise we fall through and re-raise\u001b[39;00m\n\u001b[1;32m   3816\u001b[0m     \u001b[38;5;66;03m#  the TypeError.\u001b[39;00m\n\u001b[0;32m-> 3817\u001b[0m     \u001b[38;5;28;43mself\u001b[39;49m\u001b[38;5;241;43m.\u001b[39;49m\u001b[43m_check_indexing_error\u001b[49m\u001b[43m(\u001b[49m\u001b[43mkey\u001b[49m\u001b[43m)\u001b[49m\n\u001b[1;32m   3818\u001b[0m     \u001b[38;5;28;01mraise\u001b[39;00m\n",
      "File \u001b[0;32m~/.local/lib/python3.10/site-packages/pandas/core/indexes/base.py:6059\u001b[0m, in \u001b[0;36mIndex._check_indexing_error\u001b[0;34m(self, key)\u001b[0m\n\u001b[1;32m   6055\u001b[0m \u001b[38;5;28;01mdef\u001b[39;00m \u001b[38;5;21m_check_indexing_error\u001b[39m(\u001b[38;5;28mself\u001b[39m, key):\n\u001b[1;32m   6056\u001b[0m     \u001b[38;5;28;01mif\u001b[39;00m \u001b[38;5;129;01mnot\u001b[39;00m is_scalar(key):\n\u001b[1;32m   6057\u001b[0m         \u001b[38;5;66;03m# if key is not a scalar, directly raise an error (the code below\u001b[39;00m\n\u001b[1;32m   6058\u001b[0m         \u001b[38;5;66;03m# would convert to numpy arrays and raise later any way) - GH29926\u001b[39;00m\n\u001b[0;32m-> 6059\u001b[0m         \u001b[38;5;28;01mraise\u001b[39;00m InvalidIndexError(key)\n",
      "\u001b[0;31mInvalidIndexError\u001b[0m: (slice(None, None, None), array([3, 5, 7, 8, 9]))"
     ]
    }
   ],
   "source": [
    "print(\"Selected features in X_train:\", X_train[:, selected_features])"
   ]
  },
  {
   "cell_type": "code",
   "execution_count": 36,
   "metadata": {},
   "outputs": [],
   "source": [
    "def run_classifier(df_train_valid, model=LogisticRegression(), feature_subset=[]):\n",
    "    under_sampler = RandomUnderSampler(sampling_strategy=.5, random_state=42)\n",
    "    X_new, y_new = under_sampler.fit_resample(df_train_valid.drop('shipment_issue',axis=1), df_train_valid['shipment_issue'])\n",
    "    df_train_valid = pd.concat([X_new, y_new],axis=1)\n",
    "    \n",
    "    if len(feature_subset) == 0:\n",
    "        k_strat = StratifiedKFold(n_splits=5, shuffle=False)\n",
    "        folds = k_strat.split(df_train_valid.drop('shipment_issue',axis=1), df_train_valid['shipment_issue'])\n",
    "        acc = []\n",
    "        baseline_acc = []\n",
    "        \n",
    "        for train, test in folds:\n",
    "            \n",
    "            X_train, X_test = df_train_valid.drop('shipment_issue',axis=1).iloc[train], df_train_valid.drop('shipment_issue',axis=1).iloc[test]\n",
    "            y_train, y_test = df_train_valid['shipment_issue'].values[train], df_train_valid['shipment_issue'].values[test]\n",
    "            model.fit(StandardScaler().fit_transform(X_train), y_train)\n",
    "            y_preds_LR = model.predict(StandardScaler().fit_transform(X_test))\n",
    "            y_preds_baseline = np.tile(0, len(y_test))\n",
    "            \n",
    "            accuracy_score_baseline = roc_auc_score(y_test, y_preds_baseline)\n",
    "            accuracy_score_LR = roc_auc_score(y_test, y_preds_LR)\n",
    "            acc.append(accuracy_score_LR)\n",
    "            baseline_acc.append(accuracy_score_baseline)\n",
    "\n",
    "        print(np.average(acc), np.average(baseline_acc))\n",
    "    \n",
    "    else:\n",
    "        feature_subset.append('shipment_issue')\n",
    "        df_train_valid = df_train_valid[feature_subset]\n",
    "        k_strat = StratifiedKFold(n_splits=5, shuffle=False)\n",
    "        folds = k_strat.split(df_train_valid.drop('shipment_issue',axis=1), df_train_valid['shipment_issue'])\n",
    "        acc = []\n",
    "        baseline_acc = []\n",
    "\n",
    "        for train, test in folds:\n",
    "            \n",
    "            X_train, X_test = df_train_valid.drop('shipment_issue',axis=1).iloc[train], df_train_valid.drop('shipment_issue',axis=1).iloc[test]\n",
    "            y_train, y_test = df_train_valid['shipment_issue'].values[train], df_train_valid['shipment_issue'].values[test]\n",
    "            model.fit(StandardScaler().fit_transform(X_train), y_train)\n",
    "            y_preds_LR = model.predict(StandardScaler().fit_transform(X_test))\n",
    "            y_preds_baseline = np.tile(0, len(y_test))\n",
    "            \n",
    "            accuracy_score_baseline = roc_auc_score(y_test, y_preds_baseline)\n",
    "            accuracy_score_LR = roc_auc_score(y_test, y_preds_LR)\n",
    "            acc.append(accuracy_score_LR)\n",
    "            baseline_acc.append(accuracy_score_baseline)\n",
    "\n",
    "        print(np.average(acc), np.average(baseline_acc))"
   ]
  },
  {
   "cell_type": "code",
   "execution_count": 44,
   "metadata": {},
   "outputs": [],
   "source": [
    "import optuna"
   ]
  },
  {
   "cell_type": "code",
   "execution_count": null,
   "metadata": {},
   "outputs": [],
   "source": [
    "X_train, X_test, y_train, y_test = train_test_split(X, y, test_size=0.2, random_state=42)\n"
   ]
  },
  {
   "cell_type": "code",
   "execution_count": 67,
   "metadata": {},
   "outputs": [
    {
     "data": {
      "text/plain": [
       "11"
      ]
     },
     "execution_count": 67,
     "metadata": {},
     "output_type": "execute_result"
    }
   ],
   "source": [
    "len(df_train_valid.columns)"
   ]
  },
  {
   "cell_type": "code",
   "execution_count": 70,
   "metadata": {},
   "outputs": [],
   "source": [
    "def run_RandomForest(df_train_valid):\n",
    "    \n",
    "    X_train, X_test, y_train, y_test = train_test_split(df_train_valid.drop('shipment_issue',axis=1), df_train_valid['shipment_issue'], test_size=0.2, random_state=42)\n",
    "    k = 5\n",
    "    selector = SelectKBest(score_func=f_classif, k=k)\n",
    "    X_train_selected = selector.fit_transform(X_train, y_train)\n",
    "    X_test_selected = selector.transform(X_test)\n",
    "    selected_features = selector.get_support(indices=True)\n",
    "    \n",
    "    under_sampler = RandomUnderSampler(sampling_strategy=.5, random_state=42)\n",
    "    X_new, y_new = under_sampler.fit_resample(df_train_valid.drop('shipment_issue',axis=1), df_train_valid['shipment_issue'])\n",
    "    df_train_valid = pd.concat([X_new, y_new],axis=1)\n",
    "    \n",
    "\n",
    "    k_strat = StratifiedKFold(n_splits=5, shuffle=False)\n",
    "    folds = k_strat.split(df_train_valid.drop('shipment_issue',axis=1), df_train_valid['shipment_issue'])\n",
    "    acc = []\n",
    "    baseline_acc = []\n",
    "    \n",
    "    for train, test in folds:\n",
    "        \n",
    "        X_train, X_test = df_train_valid.drop('shipment_issue',axis=1).iloc[train], df_train_valid.drop('shipment_issue',axis=1).iloc[test]\n",
    "        y_train, y_test = df_train_valid['shipment_issue'].values[train], df_train_valid['shipment_issue'].values[test]\n",
    "        X_train = X_train[X_train.columns[selected_features]]\n",
    "        X_test = X_test[X_test.columns[selected_features]]\n",
    "        \n",
    "        def objective(trial):\n",
    "            \n",
    "            n_estimators = trial.suggest_int(\"n_estimators\", 10, 200)\n",
    "            max_depth = trial.suggest_int(\"max_depth\", 2, 32, log=True)\n",
    "            min_samples_split = trial.suggest_int(\"min_samples_split\", 2, 10)\n",
    "            min_samples_leaf = trial.suggest_int(\"min_samples_leaf\", 1, 10)\n",
    "\n",
    "            # Create and train the model\n",
    "            model = RandomForestClassifier(\n",
    "                n_estimators=n_estimators,\n",
    "                max_depth=max_depth,\n",
    "                min_samples_split=min_samples_split,\n",
    "                min_samples_leaf=min_samples_leaf,\n",
    "                random_state=42,\n",
    "            )\n",
    "            model.fit(X_train, y_train)\n",
    "            \n",
    "            model.fit(StandardScaler().fit_transform(X_train), y_train)\n",
    "            y_preds = model.predict(StandardScaler().fit_transform(X_test))\n",
    "            \n",
    "            return roc_auc_score(y_test, y_preds)\n",
    "        \n",
    "        study = optuna.create_study(direction='maximize')\n",
    "        study.optimize(objective, n_trials=30)\n",
    "        best_params = study.best_params\n",
    "        \n",
    "        model = RandomForestClassifier(**best_params)\n",
    "        model.fit(StandardScaler().fit_transform(X_train), y_train)\n",
    "        y_preds = model.predict(StandardScaler().fit_transform(X_test))\n",
    "        y_preds_baseline = np.tile(0, len(y_test))\n",
    "        \n",
    "        accuracy_score_baseline = roc_auc_score(y_test, y_preds_baseline)\n",
    "        accuracy_score_LR = roc_auc_score(y_test, y_preds)\n",
    "        acc.append(accuracy_score_LR)\n",
    "        baseline_acc.append(accuracy_score_baseline)\n",
    "\n",
    "    print(np.average(acc), np.average(baseline_acc))"
   ]
  },
  {
   "cell_type": "code",
   "execution_count": 71,
   "metadata": {},
   "outputs": [],
   "source": [
    "def run_RandomForest(df_train_valid):\n",
    "    \n",
    "    under_sampler = RandomUnderSampler(sampling_strategy=.5, random_state=42)\n",
    "    X_new, y_new = under_sampler.fit_resample(df_train_valid.drop('shipment_issue',axis=1), df_train_valid['shipment_issue'])\n",
    "    df_train_valid = pd.concat([X_new, y_new],axis=1)\n",
    "    \n",
    "\n",
    "    k_strat = StratifiedKFold(n_splits=5, shuffle=False)\n",
    "    folds = k_strat.split(df_train_valid.drop('shipment_issue',axis=1), df_train_valid['shipment_issue'])\n",
    "    acc = []\n",
    "    baseline_acc = []\n",
    "    \n",
    "    for train, test in folds:\n",
    "        \n",
    "        X_train, X_test = df_train_valid.drop('shipment_issue',axis=1).iloc[train], df_train_valid.drop('shipment_issue',axis=1).iloc[test]\n",
    "        y_train, y_test = df_train_valid['shipment_issue'].values[train], df_train_valid['shipment_issue'].values[test]\n",
    "        \n",
    "        def objective(trial):\n",
    "            \n",
    "            n_estimators = trial.suggest_int(\"n_estimators\", 10, 200)\n",
    "            max_depth = trial.suggest_int(\"max_depth\", 2, 32, log=True)\n",
    "            min_samples_split = trial.suggest_int(\"min_samples_split\", 2, 10)\n",
    "            min_samples_leaf = trial.suggest_int(\"min_samples_leaf\", 1, 10)\n",
    "\n",
    "            # Create and train the model\n",
    "            model = RandomForestClassifier(\n",
    "                n_estimators=n_estimators,\n",
    "                max_depth=max_depth,\n",
    "                min_samples_split=min_samples_split,\n",
    "                min_samples_leaf=min_samples_leaf,\n",
    "                random_state=42,\n",
    "            )\n",
    "            model.fit(X_train, y_train)\n",
    "            \n",
    "            model.fit(StandardScaler().fit_transform(X_train), y_train)\n",
    "            y_preds = model.predict(StandardScaler().fit_transform(X_test))\n",
    "            \n",
    "            return roc_auc_score(y_test, y_preds)\n",
    "        \n",
    "        study = optuna.create_study(direction='maximize')\n",
    "        study.optimize(objective, n_trials=30)\n",
    "        best_params = study.best_params\n",
    "        \n",
    "        model = RandomForestClassifier(**best_params)\n",
    "        model.fit(StandardScaler().fit_transform(X_train), y_train)\n",
    "        y_preds = model.predict(StandardScaler().fit_transform(X_test))\n",
    "        y_preds_baseline = np.tile(0, len(y_test))\n",
    "        \n",
    "        accuracy_score_baseline = roc_auc_score(y_test, y_preds_baseline)\n",
    "        accuracy_score_LR = roc_auc_score(y_test, y_preds)\n",
    "        acc.append(accuracy_score_LR)\n",
    "        baseline_acc.append(accuracy_score_baseline)\n",
    "\n",
    "    print(np.average(acc), np.average(baseline_acc))"
   ]
  },
  {
   "cell_type": "code",
   "execution_count": 62,
   "metadata": {},
   "outputs": [],
   "source": [
    "def run_XGBoost(df_train_valid):\n",
    "    under_sampler = RandomUnderSampler(sampling_strategy=.5, random_state=42)\n",
    "    X_new, y_new = under_sampler.fit_resample(df_train_valid.drop('shipment_issue',axis=1), df_train_valid['shipment_issue'])\n",
    "    df_train_valid = pd.concat([X_new, y_new],axis=1)\n",
    "    \n",
    "\n",
    "    k_strat = StratifiedKFold(n_splits=5, shuffle=False)\n",
    "    folds = k_strat.split(df_train_valid.drop('shipment_issue',axis=1), df_train_valid['shipment_issue'])\n",
    "    acc = []\n",
    "    baseline_acc = []\n",
    "    \n",
    "    for train, test in folds:\n",
    "        \n",
    "        X_train, X_test = df_train_valid.drop('shipment_issue',axis=1).iloc[train], df_train_valid.drop('shipment_issue',axis=1).iloc[test]\n",
    "        y_train, y_test = df_train_valid['shipment_issue'].values[train], df_train_valid['shipment_issue'].values[test]\n",
    "        X_train = X_train[X_train.columns[selected_features]]\n",
    "        X_test = X_test[X_test.columns[selected_features]]\n",
    "        \n",
    "        def objective(trial):\n",
    "            \n",
    "            param = {\n",
    "                'objective': 'binary:logistic',\n",
    "                'tree_method': 'auto',\n",
    "                'eval_metric': 'mlogloss',\n",
    "                'booster': 'gbtree',\n",
    "                'lambda': trial.suggest_loguniform('lambda', 1e-3, 10.0),\n",
    "                'alpha': trial.suggest_loguniform('alpha', 1e-3, 10.0),\n",
    "                'colsample_bytree': trial.suggest_float('colsample_bytree', 0.4, 1.0),\n",
    "                'subsample': trial.suggest_float('subsample', 0.4, 1.0),\n",
    "                'learning_rate': trial.suggest_loguniform('learning_rate', 1e-3, 0.3),\n",
    "                'n_estimators': trial.suggest_int('n_estimators', 50, 300),\n",
    "                'max_depth': trial.suggest_int('max_depth', 3, 20),\n",
    "                'min_child_weight': trial.suggest_int('min_child_weight', 1, 10),\n",
    "                'gamma': trial.suggest_float('gamma', 0, 5)\n",
    "            }\n",
    "\n",
    "            # Create and train the model\n",
    "            model = XGBClassifier(**param)\n",
    "            model.fit(StandardScaler().fit_transform(X_train), y_train)\n",
    "            y_preds = model.predict(StandardScaler().fit_transform(X_test))\n",
    "            accuracy_score = roc_auc_score(y_test, y_preds)\n",
    "            \n",
    "            return accuracy_score\n",
    "    \n",
    "        study = optuna.create_study(direction='maximize')\n",
    "        study.optimize(objective, n_trials=30)\n",
    "        best_params = study.best_params\n",
    "        \n",
    "        model = XGBClassifier(**best_params)\n",
    "        model.fit(StandardScaler().fit_transform(X_train), y_train)\n",
    "        y_preds = model.predict(StandardScaler().fit_transform(X_test))\n",
    "        y_preds_baseline = np.tile(0, len(y_test))\n",
    "        \n",
    "        accuracy_score_baseline = roc_auc_score(y_test, y_preds_baseline)\n",
    "        accuracy_score_LR = roc_auc_score(y_test, y_preds)\n",
    "        acc.append(accuracy_score_LR)\n",
    "        baseline_acc.append(accuracy_score_baseline)\n",
    "\n",
    "    print(np.average(acc), np.average(baseline_acc))"
   ]
  },
  {
   "cell_type": "code",
   "execution_count": 72,
   "metadata": {},
   "outputs": [
    {
     "name": "stderr",
     "output_type": "stream",
     "text": [
      "[I 2024-10-28 16:04:11,144] A new study created in memory with name: no-name-6387c5e0-8260-4a19-8c5b-76f3d07c31e4\n",
      "[I 2024-10-28 16:04:11,420] Trial 0 finished with value: 0.5064516129032258 and parameters: {'n_estimators': 79, 'max_depth': 2, 'min_samples_split': 10, 'min_samples_leaf': 8}. Best is trial 0 with value: 0.5064516129032258.\n",
      "[I 2024-10-28 16:04:12,110] Trial 1 finished with value: 0.6229942100909843 and parameters: {'n_estimators': 135, 'max_depth': 19, 'min_samples_split': 7, 'min_samples_leaf': 2}. Best is trial 1 with value: 0.6229942100909843.\n",
      "[I 2024-10-28 16:04:12,624] Trial 2 finished with value: 0.5129032258064516 and parameters: {'n_estimators': 155, 'max_depth': 2, 'min_samples_split': 2, 'min_samples_leaf': 3}. Best is trial 1 with value: 0.6229942100909843.\n",
      "[I 2024-10-28 16:04:13,138] Trial 3 finished with value: 0.614836641852771 and parameters: {'n_estimators': 125, 'max_depth': 6, 'min_samples_split': 10, 'min_samples_leaf': 6}. Best is trial 1 with value: 0.6229942100909843.\n",
      "[I 2024-10-28 16:04:13,663] Trial 4 finished with value: 0.6245760959470636 and parameters: {'n_estimators': 113, 'max_depth': 13, 'min_samples_split': 3, 'min_samples_leaf': 6}. Best is trial 4 with value: 0.6245760959470636.\n",
      "[I 2024-10-28 16:04:14,124] Trial 5 finished with value: 0.618186517783292 and parameters: {'n_estimators': 91, 'max_depth': 15, 'min_samples_split': 7, 'min_samples_leaf': 2}. Best is trial 4 with value: 0.6245760959470636.\n",
      "[I 2024-10-28 16:04:14,345] Trial 6 finished with value: 0.5064516129032258 and parameters: {'n_estimators': 68, 'max_depth': 2, 'min_samples_split': 5, 'min_samples_leaf': 2}. Best is trial 4 with value: 0.6245760959470636.\n",
      "[I 2024-10-28 16:04:15,005] Trial 7 finished with value: 0.6213502894954508 and parameters: {'n_estimators': 158, 'max_depth': 8, 'min_samples_split': 6, 'min_samples_leaf': 6}. Best is trial 4 with value: 0.6245760959470636.\n",
      "[I 2024-10-28 16:04:15,126] Trial 8 finished with value: 0.6197063688999173 and parameters: {'n_estimators': 24, 'max_depth': 15, 'min_samples_split': 4, 'min_samples_leaf': 4}. Best is trial 4 with value: 0.6245760959470636.\n",
      "[I 2024-10-28 16:04:15,485] Trial 9 finished with value: 0.5710504549214227 and parameters: {'n_estimators': 103, 'max_depth': 3, 'min_samples_split': 7, 'min_samples_leaf': 4}. Best is trial 4 with value: 0.6245760959470636.\n",
      "[I 2024-10-28 16:04:16,337] Trial 10 finished with value: 0.6342535153019024 and parameters: {'n_estimators': 197, 'max_depth': 29, 'min_samples_split': 2, 'min_samples_leaf': 10}. Best is trial 10 with value: 0.6342535153019024.\n",
      "[I 2024-10-28 16:04:17,185] Trial 11 finished with value: 0.6342535153019024 and parameters: {'n_estimators': 197, 'max_depth': 32, 'min_samples_split': 2, 'min_samples_leaf': 10}. Best is trial 10 with value: 0.6342535153019024.\n",
      "[I 2024-10-28 16:04:18,052] Trial 12 finished with value: 0.6342535153019024 and parameters: {'n_estimators': 198, 'max_depth': 32, 'min_samples_split': 2, 'min_samples_leaf': 10}. Best is trial 10 with value: 0.6342535153019024.\n",
      "[I 2024-10-28 16:04:18,930] Trial 13 finished with value: 0.6342535153019024 and parameters: {'n_estimators': 198, 'max_depth': 30, 'min_samples_split': 4, 'min_samples_leaf': 10}. Best is trial 10 with value: 0.6342535153019024.\n",
      "[I 2024-10-28 16:04:19,698] Trial 14 finished with value: 0.6261993382961125 and parameters: {'n_estimators': 172, 'max_depth': 22, 'min_samples_split': 2, 'min_samples_leaf': 8}. Best is trial 10 with value: 0.6342535153019024.\n",
      "[I 2024-10-28 16:04:20,483] Trial 15 finished with value: 0.6326095947063689 and parameters: {'n_estimators': 176, 'max_depth': 9, 'min_samples_split': 4, 'min_samples_leaf': 8}. Best is trial 10 with value: 0.6342535153019024.\n",
      "[I 2024-10-28 16:04:21,291] Trial 16 finished with value: 0.6326095947063689 and parameters: {'n_estimators': 182, 'max_depth': 23, 'min_samples_split': 3, 'min_samples_leaf': 9}. Best is trial 10 with value: 0.6342535153019024.\n",
      "[I 2024-10-28 16:04:21,498] Trial 17 finished with value: 0.5857009925558313 and parameters: {'n_estimators': 47, 'max_depth': 4, 'min_samples_split': 3, 'min_samples_leaf': 9}. Best is trial 10 with value: 0.6342535153019024.\n",
      "[I 2024-10-28 16:04:22,135] Trial 18 finished with value: 0.6309863523573201 and parameters: {'n_estimators': 140, 'max_depth': 10, 'min_samples_split': 5, 'min_samples_leaf': 7}. Best is trial 10 with value: 0.6342535153019024.\n",
      "[I 2024-10-28 16:04:22,941] Trial 19 finished with value: 0.6100496277915632 and parameters: {'n_estimators': 200, 'max_depth': 6, 'min_samples_split': 9, 'min_samples_leaf': 10}. Best is trial 10 with value: 0.6342535153019024.\n",
      "[I 2024-10-28 16:04:23,621] Trial 20 finished with value: 0.6326095947063689 and parameters: {'n_estimators': 156, 'max_depth': 25, 'min_samples_split': 2, 'min_samples_leaf': 9}. Best is trial 10 with value: 0.6342535153019024.\n",
      "[I 2024-10-28 16:04:24,432] Trial 21 finished with value: 0.6310277088502895 and parameters: {'n_estimators': 188, 'max_depth': 31, 'min_samples_split': 2, 'min_samples_leaf': 10}. Best is trial 10 with value: 0.6342535153019024.\n",
      "[I 2024-10-28 16:04:25,174] Trial 22 finished with value: 0.6294251447477254 and parameters: {'n_estimators': 170, 'max_depth': 32, 'min_samples_split': 3, 'min_samples_leaf': 10}. Best is trial 10 with value: 0.6342535153019024.\n",
      "[I 2024-10-28 16:04:26,054] Trial 23 finished with value: 0.6326302729528536 and parameters: {'n_estimators': 200, 'max_depth': 18, 'min_samples_split': 2, 'min_samples_leaf': 9}. Best is trial 10 with value: 0.6342535153019024.\n",
      "[I 2024-10-28 16:04:26,884] Trial 24 finished with value: 0.6294251447477254 and parameters: {'n_estimators': 184, 'max_depth': 23, 'min_samples_split': 3, 'min_samples_leaf': 8}. Best is trial 10 with value: 0.6342535153019024.\n",
      "[I 2024-10-28 16:04:27,604] Trial 25 finished with value: 0.6310277088502895 and parameters: {'n_estimators': 157, 'max_depth': 11, 'min_samples_split': 5, 'min_samples_leaf': 7}. Best is trial 10 with value: 0.6342535153019024.\n",
      "[I 2024-10-28 16:04:28,354] Trial 26 finished with value: 0.6278019023986766 and parameters: {'n_estimators': 169, 'max_depth': 18, 'min_samples_split': 4, 'min_samples_leaf': 10}. Best is trial 10 with value: 0.6342535153019024.\n",
      "[I 2024-10-28 16:04:29,008] Trial 27 finished with value: 0.6229321753515302 and parameters: {'n_estimators': 143, 'max_depth': 26, 'min_samples_split': 2, 'min_samples_leaf': 9}. Best is trial 10 with value: 0.6342535153019024.\n",
      "[I 2024-10-28 16:04:30,054] Trial 28 finished with value: 0.6182278742762615 and parameters: {'n_estimators': 188, 'max_depth': 13, 'min_samples_split': 3, 'min_samples_leaf': 1}. Best is trial 10 with value: 0.6342535153019024.\n",
      "[I 2024-10-28 16:04:30,626] Trial 29 finished with value: 0.6374793217535153 and parameters: {'n_estimators': 120, 'max_depth': 28, 'min_samples_split': 6, 'min_samples_leaf': 7}. Best is trial 29 with value: 0.6374793217535153.\n",
      "[I 2024-10-28 16:04:30,913] A new study created in memory with name: no-name-a94b7c71-e1bd-4eb4-8262-2785cc50076c\n",
      "[I 2024-10-28 16:04:31,443] Trial 0 finished with value: 0.5591866600709045 and parameters: {'n_estimators': 142, 'max_depth': 4, 'min_samples_split': 10, 'min_samples_leaf': 5}. Best is trial 0 with value: 0.5591866600709045.\n",
      "[I 2024-10-28 16:04:32,016] Trial 1 finished with value: 0.5991219391540935 and parameters: {'n_estimators': 129, 'max_depth': 10, 'min_samples_split': 6, 'min_samples_leaf': 6}. Best is trial 1 with value: 0.5991219391540935.\n",
      "[I 2024-10-28 16:04:32,293] Trial 2 finished with value: 0.5064102564102564 and parameters: {'n_estimators': 80, 'max_depth': 2, 'min_samples_split': 10, 'min_samples_leaf': 3}. Best is trial 1 with value: 0.5991219391540935.\n",
      "[I 2024-10-28 16:04:32,588] Trial 3 finished with value: 0.6071502184846237 and parameters: {'n_estimators': 69, 'max_depth': 8, 'min_samples_split': 3, 'min_samples_leaf': 10}. Best is trial 3 with value: 0.6071502184846237.\n",
      "[I 2024-10-28 16:04:33,031] Trial 4 finished with value: 0.5096153846153846 and parameters: {'n_estimators': 132, 'max_depth': 2, 'min_samples_split': 7, 'min_samples_leaf': 7}. Best is trial 3 with value: 0.6071502184846237.\n",
      "[I 2024-10-28 16:04:33,658] Trial 5 finished with value: 0.6167037678291697 and parameters: {'n_estimators': 119, 'max_depth': 12, 'min_samples_split': 3, 'min_samples_leaf': 1}. Best is trial 5 with value: 0.6167037678291697.\n",
      "[I 2024-10-28 16:04:34,379] Trial 6 finished with value: 0.6007296561958941 and parameters: {'n_estimators': 177, 'max_depth': 7, 'min_samples_split': 6, 'min_samples_leaf': 9}. Best is trial 5 with value: 0.6167037678291697.\n",
      "[I 2024-10-28 16:04:34,539] Trial 7 finished with value: 0.5831066040069256 and parameters: {'n_estimators': 36, 'max_depth': 6, 'min_samples_split': 5, 'min_samples_leaf': 7}. Best is trial 5 with value: 0.6167037678291697.\n",
      "[I 2024-10-28 16:04:35,009] Trial 8 finished with value: 0.5064102564102564 and parameters: {'n_estimators': 142, 'max_depth': 2, 'min_samples_split': 10, 'min_samples_leaf': 8}. Best is trial 5 with value: 0.6167037678291697.\n",
      "[I 2024-10-28 16:04:35,316] Trial 9 finished with value: 0.6247629647951192 and parameters: {'n_estimators': 64, 'max_depth': 10, 'min_samples_split': 3, 'min_samples_leaf': 4}. Best is trial 9 with value: 0.6247629647951192.\n",
      "[I 2024-10-28 16:04:35,416] Trial 10 finished with value: 0.5894756369032897 and parameters: {'n_estimators': 13, 'max_depth': 32, 'min_samples_split': 2, 'min_samples_leaf': 4}. Best is trial 9 with value: 0.6247629647951192.\n",
      "[I 2024-10-28 16:04:35,949] Trial 11 finished with value: 0.610241982026548 and parameters: {'n_estimators': 88, 'max_depth': 17, 'min_samples_split': 3, 'min_samples_leaf': 1}. Best is trial 9 with value: 0.6247629647951192.\n",
      "[I 2024-10-28 16:04:36,264] Trial 12 finished with value: 0.5910318245527248 and parameters: {'n_estimators': 50, 'max_depth': 15, 'min_samples_split': 4, 'min_samples_leaf': 1}. Best is trial 9 with value: 0.6247629647951192.\n",
      "[I 2024-10-28 16:04:36,819] Trial 13 finished with value: 0.6231552477533184 and parameters: {'n_estimators': 104, 'max_depth': 15, 'min_samples_split': 2, 'min_samples_leaf': 3}. Best is trial 9 with value: 0.6247629647951192.\n",
      "[I 2024-10-28 16:04:37,319] Trial 14 finished with value: 0.6135295572594608 and parameters: {'n_estimators': 95, 'max_depth': 27, 'min_samples_split': 2, 'min_samples_leaf': 3}. Best is trial 9 with value: 0.6247629647951192.\n",
      "[I 2024-10-28 16:04:38,250] Trial 15 finished with value: 0.6183424025063896 and parameters: {'n_estimators': 181, 'max_depth': 19, 'min_samples_split': 4, 'min_samples_leaf': 3}. Best is trial 9 with value: 0.6247629647951192.\n",
      "[I 2024-10-28 16:04:38,486] Trial 16 finished with value: 0.5495712754555199 and parameters: {'n_estimators': 56, 'max_depth': 4, 'min_samples_split': 8, 'min_samples_leaf': 5}. Best is trial 9 with value: 0.6247629647951192.\n",
      "[I 2024-10-28 16:04:38,918] Trial 17 finished with value: 0.5767375711105615 and parameters: {'n_estimators': 107, 'max_depth': 5, 'min_samples_split': 2, 'min_samples_leaf': 4}. Best is trial 9 with value: 0.6247629647951192.\n",
      "[I 2024-10-28 16:04:39,033] Trial 18 finished with value: 0.6263500700799736 and parameters: {'n_estimators': 15, 'max_depth': 23, 'min_samples_split': 4, 'min_samples_leaf': 2}. Best is trial 18 with value: 0.6263500700799736.\n",
      "[I 2024-10-28 16:04:39,120] Trial 19 finished with value: 0.6022755379668563 and parameters: {'n_estimators': 10, 'max_depth': 22, 'min_samples_split': 5, 'min_samples_leaf': 2}. Best is trial 18 with value: 0.6263500700799736.\n",
      "[I 2024-10-28 16:04:39,295] Trial 20 finished with value: 0.5878782257399621 and parameters: {'n_estimators': 30, 'max_depth': 10, 'min_samples_split': 4, 'min_samples_leaf': 2}. Best is trial 18 with value: 0.6263500700799736.\n",
      "[I 2024-10-28 16:04:39,657] Trial 21 finished with value: 0.6167552972215351 and parameters: {'n_estimators': 69, 'max_depth': 14, 'min_samples_split': 3, 'min_samples_leaf': 4}. Best is trial 18 with value: 0.6263500700799736.\n",
      "[I 2024-10-28 16:04:39,858] Trial 22 finished with value: 0.6151578860582076 and parameters: {'n_estimators': 33, 'max_depth': 23, 'min_samples_split': 5, 'min_samples_leaf': 3}. Best is trial 18 with value: 0.6263500700799736.\n",
      "[I 2024-10-28 16:04:40,695] Trial 23 finished with value: 0.6070883832137851 and parameters: {'n_estimators': 162, 'max_depth': 11, 'min_samples_split': 2, 'min_samples_leaf': 2}. Best is trial 18 with value: 0.6263500700799736.\n",
      "[I 2024-10-28 16:04:41,006] Trial 24 finished with value: 0.6103347349328057 and parameters: {'n_estimators': 58, 'max_depth': 19, 'min_samples_split': 4, 'min_samples_leaf': 4}. Best is trial 18 with value: 0.6263500700799736.\n",
      "[I 2024-10-28 16:04:41,477] Trial 25 finished with value: 0.6199604254266633 and parameters: {'n_estimators': 97, 'max_depth': 14, 'min_samples_split': 3, 'min_samples_leaf': 6}. Best is trial 18 with value: 0.6263500700799736.\n",
      "[I 2024-10-28 16:04:42,080] Trial 26 finished with value: 0.6167243795861159 and parameters: {'n_estimators': 109, 'max_depth': 25, 'min_samples_split': 2, 'min_samples_leaf': 2}. Best is trial 18 with value: 0.6263500700799736.\n",
      "[I 2024-10-28 16:04:42,444] Trial 27 finished with value: 0.6071296067276774 and parameters: {'n_estimators': 77, 'max_depth': 8, 'min_samples_split': 4, 'min_samples_leaf': 5}. Best is trial 18 with value: 0.6263500700799736.\n",
      "[I 2024-10-28 16:04:42,588] Trial 28 finished with value: 0.6183630142633357 and parameters: {'n_estimators': 21, 'max_depth': 30, 'min_samples_split': 5, 'min_samples_leaf': 3}. Best is trial 18 with value: 0.6263500700799736.\n",
      "[I 2024-10-28 16:04:42,787] Trial 29 finished with value: 0.5463764531288646 and parameters: {'n_estimators': 46, 'max_depth': 3, 'min_samples_split': 3, 'min_samples_leaf': 5}. Best is trial 18 with value: 0.6263500700799736.\n",
      "[I 2024-10-28 16:04:42,839] A new study created in memory with name: no-name-96be1c00-c57c-4a5c-a63b-6e1961de4407\n",
      "[I 2024-10-28 16:04:43,477] Trial 0 finished with value: 0.6328015500041223 and parameters: {'n_estimators': 127, 'max_depth': 18, 'min_samples_split': 5, 'min_samples_leaf': 3}. Best is trial 0 with value: 0.6328015500041223.\n",
      "[I 2024-10-28 16:04:44,199] Trial 1 finished with value: 0.6264222112292852 and parameters: {'n_estimators': 155, 'max_depth': 25, 'min_samples_split': 3, 'min_samples_leaf': 5}. Best is trial 0 with value: 0.6328015500041223.\n",
      "[I 2024-10-28 16:04:44,833] Trial 2 finished with value: 0.599049798004782 and parameters: {'n_estimators': 113, 'max_depth': 18, 'min_samples_split': 5, 'min_samples_leaf': 1}. Best is trial 0 with value: 0.6328015500041223.\n",
      "[I 2024-10-28 16:04:44,980] Trial 3 finished with value: 0.6344298788028693 and parameters: {'n_estimators': 29, 'max_depth': 24, 'min_samples_split': 3, 'min_samples_leaf': 6}. Best is trial 3 with value: 0.6344298788028693.\n",
      "[I 2024-10-28 16:04:45,151] Trial 4 finished with value: 0.628040234149559 and parameters: {'n_estimators': 36, 'max_depth': 18, 'min_samples_split': 5, 'min_samples_leaf': 9}. Best is trial 3 with value: 0.6344298788028693.\n",
      "[I 2024-10-28 16:04:45,510] Trial 5 finished with value: 0.6040584549426993 and parameters: {'n_estimators': 92, 'max_depth': 5, 'min_samples_split': 9, 'min_samples_leaf': 8}. Best is trial 3 with value: 0.6344298788028693.\n",
      "[I 2024-10-28 16:04:45,782] Trial 6 finished with value: 0.5928353532855141 and parameters: {'n_estimators': 67, 'max_depth': 5, 'min_samples_split': 3, 'min_samples_leaf': 4}. Best is trial 3 with value: 0.6344298788028693.\n",
      "[I 2024-10-28 16:04:46,235] Trial 7 finished with value: 0.6296582570698327 and parameters: {'n_estimators': 98, 'max_depth': 13, 'min_samples_split': 8, 'min_samples_leaf': 8}. Best is trial 3 with value: 0.6344298788028693.\n",
      "[I 2024-10-28 16:04:46,851] Trial 8 finished with value: 0.5640510347101988 and parameters: {'n_estimators': 174, 'max_depth': 3, 'min_samples_split': 9, 'min_samples_leaf': 1}. Best is trial 3 with value: 0.6344298788028693.\n",
      "[I 2024-10-28 16:04:47,239] Trial 9 finished with value: 0.6264222112292852 and parameters: {'n_estimators': 82, 'max_depth': 10, 'min_samples_split': 10, 'min_samples_leaf': 4}. Best is trial 3 with value: 0.6344298788028693.\n",
      "[I 2024-10-28 16:04:47,327] Trial 10 finished with value: 0.6136120042872454 and parameters: {'n_estimators': 11, 'max_depth': 31, 'min_samples_split': 2, 'min_samples_leaf': 7}. Best is trial 3 with value: 0.6344298788028693.\n",
      "[I 2024-10-28 16:04:47,993] Trial 11 finished with value: 0.623217083024157 and parameters: {'n_estimators': 135, 'max_depth': 10, 'min_samples_split': 6, 'min_samples_leaf': 3}. Best is trial 3 with value: 0.6344298788028693.\n",
      "[I 2024-10-28 16:04:48,912] Trial 12 finished with value: 0.6168068266139006 and parameters: {'n_estimators': 199, 'max_depth': 32, 'min_samples_split': 4, 'min_samples_leaf': 6}. Best is trial 3 with value: 0.6344298788028693.\n",
      "[I 2024-10-28 16:04:49,127] Trial 13 finished with value: 0.5096153846153846 and parameters: {'n_estimators': 56, 'max_depth': 2, 'min_samples_split': 7, 'min_samples_leaf': 3}. Best is trial 3 with value: 0.6344298788028693.\n",
      "[I 2024-10-28 16:04:49,708] Trial 14 finished with value: 0.6215990601038833 and parameters: {'n_estimators': 124, 'max_depth': 16, 'min_samples_split': 2, 'min_samples_leaf': 6}. Best is trial 3 with value: 0.6344298788028693.\n",
      "[I 2024-10-28 16:04:49,782] Trial 15 finished with value: 0.6056455602275538 and parameters: {'n_estimators': 10, 'max_depth': 7, 'min_samples_split': 4, 'min_samples_leaf': 10}. Best is trial 3 with value: 0.6344298788028693.\n",
      "[I 2024-10-28 16:04:50,529] Trial 16 finished with value: 0.6071089949707312 and parameters: {'n_estimators': 139, 'max_depth': 22, 'min_samples_split': 6, 'min_samples_leaf': 2}. Best is trial 3 with value: 0.6344298788028693.\n",
      "[I 2024-10-28 16:04:50,732] Trial 17 finished with value: 0.6360479017231429 and parameters: {'n_estimators': 36, 'max_depth': 12, 'min_samples_split': 5, 'min_samples_leaf': 5}. Best is trial 17 with value: 0.6360479017231429.\n",
      "[I 2024-10-28 16:04:50,957] Trial 18 finished with value: 0.631224750597741 and parameters: {'n_estimators': 41, 'max_depth': 12, 'min_samples_split': 3, 'min_samples_leaf': 5}. Best is trial 17 with value: 0.6360479017231429.\n",
      "[I 2024-10-28 16:04:51,145] Trial 19 finished with value: 0.628060845906505 and parameters: {'n_estimators': 36, 'max_depth': 7, 'min_samples_split': 4, 'min_samples_leaf': 7}. Best is trial 17 with value: 0.6360479017231429.\n",
      "[I 2024-10-28 16:04:51,477] Trial 20 finished with value: 0.632873691153434 and parameters: {'n_estimators': 68, 'max_depth': 9, 'min_samples_split': 7, 'min_samples_leaf': 7}. Best is trial 17 with value: 0.6360479017231429.\n",
      "[I 2024-10-28 16:04:51,751] Trial 21 finished with value: 0.5976481985324429 and parameters: {'n_estimators': 63, 'max_depth': 5, 'min_samples_split': 7, 'min_samples_leaf': 7}. Best is trial 17 with value: 0.6360479017231429.\n",
      "[I 2024-10-28 16:04:51,917] Trial 22 finished with value: 0.6216402836177756 and parameters: {'n_estimators': 29, 'max_depth': 9, 'min_samples_split': 7, 'min_samples_leaf': 6}. Best is trial 17 with value: 0.6360479017231429.\n",
      "[I 2024-10-28 16:04:52,324] Trial 23 finished with value: 0.6296170335559403 and parameters: {'n_estimators': 78, 'max_depth': 13, 'min_samples_split': 8, 'min_samples_leaf': 5}. Best is trial 17 with value: 0.6360479017231429.\n",
      "[I 2024-10-28 16:04:52,586] Trial 24 finished with value: 0.6152197213290461 and parameters: {'n_estimators': 50, 'max_depth': 24, 'min_samples_split': 6, 'min_samples_leaf': 8}. Best is trial 17 with value: 0.6360479017231429.\n",
      "[I 2024-10-28 16:04:52,951] Trial 25 finished with value: 0.6232583065380493 and parameters: {'n_estimators': 74, 'max_depth': 8, 'min_samples_split': 5, 'min_samples_leaf': 4}. Best is trial 17 with value: 0.6360479017231429.\n",
      "[I 2024-10-28 16:04:53,055] Trial 26 finished with value: 0.5592381894632698 and parameters: {'n_estimators': 18, 'max_depth': 4, 'min_samples_split': 4, 'min_samples_leaf': 7}. Best is trial 17 with value: 0.6360479017231429.\n",
      "[I 2024-10-28 16:04:53,321] Trial 27 finished with value: 0.6344607964382883 and parameters: {'n_estimators': 50, 'max_depth': 14, 'min_samples_split': 6, 'min_samples_leaf': 9}. Best is trial 17 with value: 0.6360479017231429.\n",
      "[I 2024-10-28 16:04:53,483] Trial 28 finished with value: 0.6168377442493198 and parameters: {'n_estimators': 26, 'max_depth': 15, 'min_samples_split': 6, 'min_samples_leaf': 10}. Best is trial 17 with value: 0.6360479017231429.\n",
      "[I 2024-10-28 16:04:53,748] Trial 29 finished with value: 0.6360685134800891 and parameters: {'n_estimators': 49, 'max_depth': 20, 'min_samples_split': 5, 'min_samples_leaf': 9}. Best is trial 29 with value: 0.6360685134800891.\n",
      "[I 2024-10-28 16:04:53,874] A new study created in memory with name: no-name-441d3b4e-114a-4acb-9c09-433559443b45\n",
      "[W 2024-10-28 16:04:53,949] Trial 0 failed with parameters: {'n_estimators': 90, 'max_depth': 16, 'min_samples_split': 7, 'min_samples_leaf': 6} because of the following error: KeyboardInterrupt().\n",
      "Traceback (most recent call last):\n",
      "  File \"/home/bstager/.local/lib/python3.10/site-packages/optuna/study/_optimize.py\", line 196, in _run_trial\n",
      "    value_or_values = func(trial)\n",
      "  File \"/tmp/ipykernel_1026747/3271202641.py\", line 33, in objective\n",
      "    model.fit(X_train, y_train)\n",
      "  File \"/home/bstager/.local/lib/python3.10/site-packages/sklearn/base.py\", line 1474, in wrapper\n",
      "    return fit_method(estimator, *args, **kwargs)\n",
      "  File \"/home/bstager/.local/lib/python3.10/site-packages/sklearn/ensemble/_forest.py\", line 489, in fit\n",
      "    trees = Parallel(\n",
      "  File \"/home/bstager/.local/lib/python3.10/site-packages/sklearn/utils/parallel.py\", line 67, in __call__\n",
      "    return super().__call__(iterable_with_config)\n",
      "  File \"/home/bstager/.local/lib/python3.10/site-packages/joblib/parallel.py\", line 1918, in __call__\n",
      "    return output if self.return_generator else list(output)\n",
      "  File \"/home/bstager/.local/lib/python3.10/site-packages/joblib/parallel.py\", line 1847, in _get_sequential_output\n",
      "    res = func(*args, **kwargs)\n",
      "  File \"/home/bstager/.local/lib/python3.10/site-packages/sklearn/utils/parallel.py\", line 129, in __call__\n",
      "    return self.function(*args, **kwargs)\n",
      "  File \"/home/bstager/.local/lib/python3.10/site-packages/sklearn/ensemble/_forest.py\", line 192, in _parallel_build_trees\n",
      "    tree._fit(\n",
      "  File \"/home/bstager/.local/lib/python3.10/site-packages/sklearn/tree/_classes.py\", line 472, in _fit\n",
      "    builder.build(self.tree_, X, y, sample_weight, missing_values_in_feature_mask)\n",
      "KeyboardInterrupt\n",
      "[W 2024-10-28 16:04:53,953] Trial 0 failed with value None.\n"
     ]
    },
    {
     "ename": "KeyboardInterrupt",
     "evalue": "",
     "output_type": "error",
     "traceback": [
      "\u001b[0;31m---------------------------------------------------------------------------\u001b[0m",
      "\u001b[0;31mKeyboardInterrupt\u001b[0m                         Traceback (most recent call last)",
      "Cell \u001b[0;32mIn[72], line 1\u001b[0m\n\u001b[0;32m----> 1\u001b[0m \u001b[43mrun_RandomForest\u001b[49m\u001b[43m(\u001b[49m\u001b[43mdf_train_valid\u001b[49m\u001b[43m)\u001b[49m\n",
      "Cell \u001b[0;32mIn[71], line 41\u001b[0m, in \u001b[0;36mrun_RandomForest\u001b[0;34m(df_train_valid)\u001b[0m\n\u001b[1;32m     38\u001b[0m     \u001b[38;5;28;01mreturn\u001b[39;00m roc_auc_score(y_test, y_preds)\n\u001b[1;32m     40\u001b[0m study \u001b[38;5;241m=\u001b[39m optuna\u001b[38;5;241m.\u001b[39mcreate_study(direction\u001b[38;5;241m=\u001b[39m\u001b[38;5;124m'\u001b[39m\u001b[38;5;124mmaximize\u001b[39m\u001b[38;5;124m'\u001b[39m)\n\u001b[0;32m---> 41\u001b[0m \u001b[43mstudy\u001b[49m\u001b[38;5;241;43m.\u001b[39;49m\u001b[43moptimize\u001b[49m\u001b[43m(\u001b[49m\u001b[43mobjective\u001b[49m\u001b[43m,\u001b[49m\u001b[43m \u001b[49m\u001b[43mn_trials\u001b[49m\u001b[38;5;241;43m=\u001b[39;49m\u001b[38;5;241;43m30\u001b[39;49m\u001b[43m)\u001b[49m\n\u001b[1;32m     42\u001b[0m best_params \u001b[38;5;241m=\u001b[39m study\u001b[38;5;241m.\u001b[39mbest_params\n\u001b[1;32m     44\u001b[0m model \u001b[38;5;241m=\u001b[39m RandomForestClassifier(\u001b[38;5;241m*\u001b[39m\u001b[38;5;241m*\u001b[39mbest_params)\n",
      "File \u001b[0;32m~/.local/lib/python3.10/site-packages/optuna/study/study.py:451\u001b[0m, in \u001b[0;36mStudy.optimize\u001b[0;34m(self, func, n_trials, timeout, n_jobs, catch, callbacks, gc_after_trial, show_progress_bar)\u001b[0m\n\u001b[1;32m    348\u001b[0m \u001b[38;5;28;01mdef\u001b[39;00m \u001b[38;5;21moptimize\u001b[39m(\n\u001b[1;32m    349\u001b[0m     \u001b[38;5;28mself\u001b[39m,\n\u001b[1;32m    350\u001b[0m     func: ObjectiveFuncType,\n\u001b[0;32m   (...)\u001b[0m\n\u001b[1;32m    357\u001b[0m     show_progress_bar: \u001b[38;5;28mbool\u001b[39m \u001b[38;5;241m=\u001b[39m \u001b[38;5;28;01mFalse\u001b[39;00m,\n\u001b[1;32m    358\u001b[0m ) \u001b[38;5;241m-\u001b[39m\u001b[38;5;241m>\u001b[39m \u001b[38;5;28;01mNone\u001b[39;00m:\n\u001b[1;32m    359\u001b[0m \u001b[38;5;250m    \u001b[39m\u001b[38;5;124;03m\"\"\"Optimize an objective function.\u001b[39;00m\n\u001b[1;32m    360\u001b[0m \n\u001b[1;32m    361\u001b[0m \u001b[38;5;124;03m    Optimization is done by choosing a suitable set of hyperparameter values from a given\u001b[39;00m\n\u001b[0;32m   (...)\u001b[0m\n\u001b[1;32m    449\u001b[0m \u001b[38;5;124;03m            If nested invocation of this method occurs.\u001b[39;00m\n\u001b[1;32m    450\u001b[0m \u001b[38;5;124;03m    \"\"\"\u001b[39;00m\n\u001b[0;32m--> 451\u001b[0m     \u001b[43m_optimize\u001b[49m\u001b[43m(\u001b[49m\n\u001b[1;32m    452\u001b[0m \u001b[43m        \u001b[49m\u001b[43mstudy\u001b[49m\u001b[38;5;241;43m=\u001b[39;49m\u001b[38;5;28;43mself\u001b[39;49m\u001b[43m,\u001b[49m\n\u001b[1;32m    453\u001b[0m \u001b[43m        \u001b[49m\u001b[43mfunc\u001b[49m\u001b[38;5;241;43m=\u001b[39;49m\u001b[43mfunc\u001b[49m\u001b[43m,\u001b[49m\n\u001b[1;32m    454\u001b[0m \u001b[43m        \u001b[49m\u001b[43mn_trials\u001b[49m\u001b[38;5;241;43m=\u001b[39;49m\u001b[43mn_trials\u001b[49m\u001b[43m,\u001b[49m\n\u001b[1;32m    455\u001b[0m \u001b[43m        \u001b[49m\u001b[43mtimeout\u001b[49m\u001b[38;5;241;43m=\u001b[39;49m\u001b[43mtimeout\u001b[49m\u001b[43m,\u001b[49m\n\u001b[1;32m    456\u001b[0m \u001b[43m        \u001b[49m\u001b[43mn_jobs\u001b[49m\u001b[38;5;241;43m=\u001b[39;49m\u001b[43mn_jobs\u001b[49m\u001b[43m,\u001b[49m\n\u001b[1;32m    457\u001b[0m \u001b[43m        \u001b[49m\u001b[43mcatch\u001b[49m\u001b[38;5;241;43m=\u001b[39;49m\u001b[38;5;28;43mtuple\u001b[39;49m\u001b[43m(\u001b[49m\u001b[43mcatch\u001b[49m\u001b[43m)\u001b[49m\u001b[43m \u001b[49m\u001b[38;5;28;43;01mif\u001b[39;49;00m\u001b[43m \u001b[49m\u001b[38;5;28;43misinstance\u001b[39;49m\u001b[43m(\u001b[49m\u001b[43mcatch\u001b[49m\u001b[43m,\u001b[49m\u001b[43m \u001b[49m\u001b[43mIterable\u001b[49m\u001b[43m)\u001b[49m\u001b[43m \u001b[49m\u001b[38;5;28;43;01melse\u001b[39;49;00m\u001b[43m \u001b[49m\u001b[43m(\u001b[49m\u001b[43mcatch\u001b[49m\u001b[43m,\u001b[49m\u001b[43m)\u001b[49m\u001b[43m,\u001b[49m\n\u001b[1;32m    458\u001b[0m \u001b[43m        \u001b[49m\u001b[43mcallbacks\u001b[49m\u001b[38;5;241;43m=\u001b[39;49m\u001b[43mcallbacks\u001b[49m\u001b[43m,\u001b[49m\n\u001b[1;32m    459\u001b[0m \u001b[43m        \u001b[49m\u001b[43mgc_after_trial\u001b[49m\u001b[38;5;241;43m=\u001b[39;49m\u001b[43mgc_after_trial\u001b[49m\u001b[43m,\u001b[49m\n\u001b[1;32m    460\u001b[0m \u001b[43m        \u001b[49m\u001b[43mshow_progress_bar\u001b[49m\u001b[38;5;241;43m=\u001b[39;49m\u001b[43mshow_progress_bar\u001b[49m\u001b[43m,\u001b[49m\n\u001b[1;32m    461\u001b[0m \u001b[43m    \u001b[49m\u001b[43m)\u001b[49m\n",
      "File \u001b[0;32m~/.local/lib/python3.10/site-packages/optuna/study/_optimize.py:62\u001b[0m, in \u001b[0;36m_optimize\u001b[0;34m(study, func, n_trials, timeout, n_jobs, catch, callbacks, gc_after_trial, show_progress_bar)\u001b[0m\n\u001b[1;32m     60\u001b[0m \u001b[38;5;28;01mtry\u001b[39;00m:\n\u001b[1;32m     61\u001b[0m     \u001b[38;5;28;01mif\u001b[39;00m n_jobs \u001b[38;5;241m==\u001b[39m \u001b[38;5;241m1\u001b[39m:\n\u001b[0;32m---> 62\u001b[0m         \u001b[43m_optimize_sequential\u001b[49m\u001b[43m(\u001b[49m\n\u001b[1;32m     63\u001b[0m \u001b[43m            \u001b[49m\u001b[43mstudy\u001b[49m\u001b[43m,\u001b[49m\n\u001b[1;32m     64\u001b[0m \u001b[43m            \u001b[49m\u001b[43mfunc\u001b[49m\u001b[43m,\u001b[49m\n\u001b[1;32m     65\u001b[0m \u001b[43m            \u001b[49m\u001b[43mn_trials\u001b[49m\u001b[43m,\u001b[49m\n\u001b[1;32m     66\u001b[0m \u001b[43m            \u001b[49m\u001b[43mtimeout\u001b[49m\u001b[43m,\u001b[49m\n\u001b[1;32m     67\u001b[0m \u001b[43m            \u001b[49m\u001b[43mcatch\u001b[49m\u001b[43m,\u001b[49m\n\u001b[1;32m     68\u001b[0m \u001b[43m            \u001b[49m\u001b[43mcallbacks\u001b[49m\u001b[43m,\u001b[49m\n\u001b[1;32m     69\u001b[0m \u001b[43m            \u001b[49m\u001b[43mgc_after_trial\u001b[49m\u001b[43m,\u001b[49m\n\u001b[1;32m     70\u001b[0m \u001b[43m            \u001b[49m\u001b[43mreseed_sampler_rng\u001b[49m\u001b[38;5;241;43m=\u001b[39;49m\u001b[38;5;28;43;01mFalse\u001b[39;49;00m\u001b[43m,\u001b[49m\n\u001b[1;32m     71\u001b[0m \u001b[43m            \u001b[49m\u001b[43mtime_start\u001b[49m\u001b[38;5;241;43m=\u001b[39;49m\u001b[38;5;28;43;01mNone\u001b[39;49;00m\u001b[43m,\u001b[49m\n\u001b[1;32m     72\u001b[0m \u001b[43m            \u001b[49m\u001b[43mprogress_bar\u001b[49m\u001b[38;5;241;43m=\u001b[39;49m\u001b[43mprogress_bar\u001b[49m\u001b[43m,\u001b[49m\n\u001b[1;32m     73\u001b[0m \u001b[43m        \u001b[49m\u001b[43m)\u001b[49m\n\u001b[1;32m     74\u001b[0m     \u001b[38;5;28;01melse\u001b[39;00m:\n\u001b[1;32m     75\u001b[0m         \u001b[38;5;28;01mif\u001b[39;00m n_jobs \u001b[38;5;241m==\u001b[39m \u001b[38;5;241m-\u001b[39m\u001b[38;5;241m1\u001b[39m:\n",
      "File \u001b[0;32m~/.local/lib/python3.10/site-packages/optuna/study/_optimize.py:159\u001b[0m, in \u001b[0;36m_optimize_sequential\u001b[0;34m(study, func, n_trials, timeout, catch, callbacks, gc_after_trial, reseed_sampler_rng, time_start, progress_bar)\u001b[0m\n\u001b[1;32m    156\u001b[0m         \u001b[38;5;28;01mbreak\u001b[39;00m\n\u001b[1;32m    158\u001b[0m \u001b[38;5;28;01mtry\u001b[39;00m:\n\u001b[0;32m--> 159\u001b[0m     frozen_trial \u001b[38;5;241m=\u001b[39m \u001b[43m_run_trial\u001b[49m\u001b[43m(\u001b[49m\u001b[43mstudy\u001b[49m\u001b[43m,\u001b[49m\u001b[43m \u001b[49m\u001b[43mfunc\u001b[49m\u001b[43m,\u001b[49m\u001b[43m \u001b[49m\u001b[43mcatch\u001b[49m\u001b[43m)\u001b[49m\n\u001b[1;32m    160\u001b[0m \u001b[38;5;28;01mfinally\u001b[39;00m:\n\u001b[1;32m    161\u001b[0m     \u001b[38;5;66;03m# The following line mitigates memory problems that can be occurred in some\u001b[39;00m\n\u001b[1;32m    162\u001b[0m     \u001b[38;5;66;03m# environments (e.g., services that use computing containers such as GitHub Actions).\u001b[39;00m\n\u001b[1;32m    163\u001b[0m     \u001b[38;5;66;03m# Please refer to the following PR for further details:\u001b[39;00m\n\u001b[1;32m    164\u001b[0m     \u001b[38;5;66;03m# https://github.com/optuna/optuna/pull/325.\u001b[39;00m\n\u001b[1;32m    165\u001b[0m     \u001b[38;5;28;01mif\u001b[39;00m gc_after_trial:\n",
      "File \u001b[0;32m~/.local/lib/python3.10/site-packages/optuna/study/_optimize.py:247\u001b[0m, in \u001b[0;36m_run_trial\u001b[0;34m(study, func, catch)\u001b[0m\n\u001b[1;32m    240\u001b[0m         \u001b[38;5;28;01massert\u001b[39;00m \u001b[38;5;28;01mFalse\u001b[39;00m, \u001b[38;5;124m\"\u001b[39m\u001b[38;5;124mShould not reach.\u001b[39m\u001b[38;5;124m\"\u001b[39m\n\u001b[1;32m    242\u001b[0m \u001b[38;5;28;01mif\u001b[39;00m (\n\u001b[1;32m    243\u001b[0m     frozen_trial\u001b[38;5;241m.\u001b[39mstate \u001b[38;5;241m==\u001b[39m TrialState\u001b[38;5;241m.\u001b[39mFAIL\n\u001b[1;32m    244\u001b[0m     \u001b[38;5;129;01mand\u001b[39;00m func_err \u001b[38;5;129;01mis\u001b[39;00m \u001b[38;5;129;01mnot\u001b[39;00m \u001b[38;5;28;01mNone\u001b[39;00m\n\u001b[1;32m    245\u001b[0m     \u001b[38;5;129;01mand\u001b[39;00m \u001b[38;5;129;01mnot\u001b[39;00m \u001b[38;5;28misinstance\u001b[39m(func_err, catch)\n\u001b[1;32m    246\u001b[0m ):\n\u001b[0;32m--> 247\u001b[0m     \u001b[38;5;28;01mraise\u001b[39;00m func_err\n\u001b[1;32m    248\u001b[0m \u001b[38;5;28;01mreturn\u001b[39;00m frozen_trial\n",
      "File \u001b[0;32m~/.local/lib/python3.10/site-packages/optuna/study/_optimize.py:196\u001b[0m, in \u001b[0;36m_run_trial\u001b[0;34m(study, func, catch)\u001b[0m\n\u001b[1;32m    194\u001b[0m \u001b[38;5;28;01mwith\u001b[39;00m get_heartbeat_thread(trial\u001b[38;5;241m.\u001b[39m_trial_id, study\u001b[38;5;241m.\u001b[39m_storage):\n\u001b[1;32m    195\u001b[0m     \u001b[38;5;28;01mtry\u001b[39;00m:\n\u001b[0;32m--> 196\u001b[0m         value_or_values \u001b[38;5;241m=\u001b[39m \u001b[43mfunc\u001b[49m\u001b[43m(\u001b[49m\u001b[43mtrial\u001b[49m\u001b[43m)\u001b[49m\n\u001b[1;32m    197\u001b[0m     \u001b[38;5;28;01mexcept\u001b[39;00m exceptions\u001b[38;5;241m.\u001b[39mTrialPruned \u001b[38;5;28;01mas\u001b[39;00m e:\n\u001b[1;32m    198\u001b[0m         \u001b[38;5;66;03m# TODO(mamu): Handle multi-objective cases.\u001b[39;00m\n\u001b[1;32m    199\u001b[0m         state \u001b[38;5;241m=\u001b[39m TrialState\u001b[38;5;241m.\u001b[39mPRUNED\n",
      "Cell \u001b[0;32mIn[71], line 33\u001b[0m, in \u001b[0;36mrun_RandomForest.<locals>.objective\u001b[0;34m(trial)\u001b[0m\n\u001b[1;32m     25\u001b[0m \u001b[38;5;66;03m# Create and train the model\u001b[39;00m\n\u001b[1;32m     26\u001b[0m model \u001b[38;5;241m=\u001b[39m RandomForestClassifier(\n\u001b[1;32m     27\u001b[0m     n_estimators\u001b[38;5;241m=\u001b[39mn_estimators,\n\u001b[1;32m     28\u001b[0m     max_depth\u001b[38;5;241m=\u001b[39mmax_depth,\n\u001b[0;32m   (...)\u001b[0m\n\u001b[1;32m     31\u001b[0m     random_state\u001b[38;5;241m=\u001b[39m\u001b[38;5;241m42\u001b[39m,\n\u001b[1;32m     32\u001b[0m )\n\u001b[0;32m---> 33\u001b[0m \u001b[43mmodel\u001b[49m\u001b[38;5;241;43m.\u001b[39;49m\u001b[43mfit\u001b[49m\u001b[43m(\u001b[49m\u001b[43mX_train\u001b[49m\u001b[43m,\u001b[49m\u001b[43m \u001b[49m\u001b[43my_train\u001b[49m\u001b[43m)\u001b[49m\n\u001b[1;32m     35\u001b[0m model\u001b[38;5;241m.\u001b[39mfit(StandardScaler()\u001b[38;5;241m.\u001b[39mfit_transform(X_train), y_train)\n\u001b[1;32m     36\u001b[0m y_preds \u001b[38;5;241m=\u001b[39m model\u001b[38;5;241m.\u001b[39mpredict(StandardScaler()\u001b[38;5;241m.\u001b[39mfit_transform(X_test))\n",
      "File \u001b[0;32m~/.local/lib/python3.10/site-packages/sklearn/base.py:1474\u001b[0m, in \u001b[0;36m_fit_context.<locals>.decorator.<locals>.wrapper\u001b[0;34m(estimator, *args, **kwargs)\u001b[0m\n\u001b[1;32m   1467\u001b[0m     estimator\u001b[38;5;241m.\u001b[39m_validate_params()\n\u001b[1;32m   1469\u001b[0m \u001b[38;5;28;01mwith\u001b[39;00m config_context(\n\u001b[1;32m   1470\u001b[0m     skip_parameter_validation\u001b[38;5;241m=\u001b[39m(\n\u001b[1;32m   1471\u001b[0m         prefer_skip_nested_validation \u001b[38;5;129;01mor\u001b[39;00m global_skip_validation\n\u001b[1;32m   1472\u001b[0m     )\n\u001b[1;32m   1473\u001b[0m ):\n\u001b[0;32m-> 1474\u001b[0m     \u001b[38;5;28;01mreturn\u001b[39;00m \u001b[43mfit_method\u001b[49m\u001b[43m(\u001b[49m\u001b[43mestimator\u001b[49m\u001b[43m,\u001b[49m\u001b[43m \u001b[49m\u001b[38;5;241;43m*\u001b[39;49m\u001b[43margs\u001b[49m\u001b[43m,\u001b[49m\u001b[43m \u001b[49m\u001b[38;5;241;43m*\u001b[39;49m\u001b[38;5;241;43m*\u001b[39;49m\u001b[43mkwargs\u001b[49m\u001b[43m)\u001b[49m\n",
      "File \u001b[0;32m~/.local/lib/python3.10/site-packages/sklearn/ensemble/_forest.py:489\u001b[0m, in \u001b[0;36mBaseForest.fit\u001b[0;34m(self, X, y, sample_weight)\u001b[0m\n\u001b[1;32m    478\u001b[0m trees \u001b[38;5;241m=\u001b[39m [\n\u001b[1;32m    479\u001b[0m     \u001b[38;5;28mself\u001b[39m\u001b[38;5;241m.\u001b[39m_make_estimator(append\u001b[38;5;241m=\u001b[39m\u001b[38;5;28;01mFalse\u001b[39;00m, random_state\u001b[38;5;241m=\u001b[39mrandom_state)\n\u001b[1;32m    480\u001b[0m     \u001b[38;5;28;01mfor\u001b[39;00m i \u001b[38;5;129;01min\u001b[39;00m \u001b[38;5;28mrange\u001b[39m(n_more_estimators)\n\u001b[1;32m    481\u001b[0m ]\n\u001b[1;32m    483\u001b[0m \u001b[38;5;66;03m# Parallel loop: we prefer the threading backend as the Cython code\u001b[39;00m\n\u001b[1;32m    484\u001b[0m \u001b[38;5;66;03m# for fitting the trees is internally releasing the Python GIL\u001b[39;00m\n\u001b[1;32m    485\u001b[0m \u001b[38;5;66;03m# making threading more efficient than multiprocessing in\u001b[39;00m\n\u001b[1;32m    486\u001b[0m \u001b[38;5;66;03m# that case. However, for joblib 0.12+ we respect any\u001b[39;00m\n\u001b[1;32m    487\u001b[0m \u001b[38;5;66;03m# parallel_backend contexts set at a higher level,\u001b[39;00m\n\u001b[1;32m    488\u001b[0m \u001b[38;5;66;03m# since correctness does not rely on using threads.\u001b[39;00m\n\u001b[0;32m--> 489\u001b[0m trees \u001b[38;5;241m=\u001b[39m \u001b[43mParallel\u001b[49m\u001b[43m(\u001b[49m\n\u001b[1;32m    490\u001b[0m \u001b[43m    \u001b[49m\u001b[43mn_jobs\u001b[49m\u001b[38;5;241;43m=\u001b[39;49m\u001b[38;5;28;43mself\u001b[39;49m\u001b[38;5;241;43m.\u001b[39;49m\u001b[43mn_jobs\u001b[49m\u001b[43m,\u001b[49m\n\u001b[1;32m    491\u001b[0m \u001b[43m    \u001b[49m\u001b[43mverbose\u001b[49m\u001b[38;5;241;43m=\u001b[39;49m\u001b[38;5;28;43mself\u001b[39;49m\u001b[38;5;241;43m.\u001b[39;49m\u001b[43mverbose\u001b[49m\u001b[43m,\u001b[49m\n\u001b[1;32m    492\u001b[0m \u001b[43m    \u001b[49m\u001b[43mprefer\u001b[49m\u001b[38;5;241;43m=\u001b[39;49m\u001b[38;5;124;43m\"\u001b[39;49m\u001b[38;5;124;43mthreads\u001b[39;49m\u001b[38;5;124;43m\"\u001b[39;49m\u001b[43m,\u001b[49m\n\u001b[1;32m    493\u001b[0m \u001b[43m\u001b[49m\u001b[43m)\u001b[49m\u001b[43m(\u001b[49m\n\u001b[1;32m    494\u001b[0m \u001b[43m    \u001b[49m\u001b[43mdelayed\u001b[49m\u001b[43m(\u001b[49m\u001b[43m_parallel_build_trees\u001b[49m\u001b[43m)\u001b[49m\u001b[43m(\u001b[49m\n\u001b[1;32m    495\u001b[0m \u001b[43m        \u001b[49m\u001b[43mt\u001b[49m\u001b[43m,\u001b[49m\n\u001b[1;32m    496\u001b[0m \u001b[43m        \u001b[49m\u001b[38;5;28;43mself\u001b[39;49m\u001b[38;5;241;43m.\u001b[39;49m\u001b[43mbootstrap\u001b[49m\u001b[43m,\u001b[49m\n\u001b[1;32m    497\u001b[0m \u001b[43m        \u001b[49m\u001b[43mX\u001b[49m\u001b[43m,\u001b[49m\n\u001b[1;32m    498\u001b[0m \u001b[43m        \u001b[49m\u001b[43my\u001b[49m\u001b[43m,\u001b[49m\n\u001b[1;32m    499\u001b[0m \u001b[43m        \u001b[49m\u001b[43msample_weight\u001b[49m\u001b[43m,\u001b[49m\n\u001b[1;32m    500\u001b[0m \u001b[43m        \u001b[49m\u001b[43mi\u001b[49m\u001b[43m,\u001b[49m\n\u001b[1;32m    501\u001b[0m \u001b[43m        \u001b[49m\u001b[38;5;28;43mlen\u001b[39;49m\u001b[43m(\u001b[49m\u001b[43mtrees\u001b[49m\u001b[43m)\u001b[49m\u001b[43m,\u001b[49m\n\u001b[1;32m    502\u001b[0m \u001b[43m        \u001b[49m\u001b[43mverbose\u001b[49m\u001b[38;5;241;43m=\u001b[39;49m\u001b[38;5;28;43mself\u001b[39;49m\u001b[38;5;241;43m.\u001b[39;49m\u001b[43mverbose\u001b[49m\u001b[43m,\u001b[49m\n\u001b[1;32m    503\u001b[0m \u001b[43m        \u001b[49m\u001b[43mclass_weight\u001b[49m\u001b[38;5;241;43m=\u001b[39;49m\u001b[38;5;28;43mself\u001b[39;49m\u001b[38;5;241;43m.\u001b[39;49m\u001b[43mclass_weight\u001b[49m\u001b[43m,\u001b[49m\n\u001b[1;32m    504\u001b[0m \u001b[43m        \u001b[49m\u001b[43mn_samples_bootstrap\u001b[49m\u001b[38;5;241;43m=\u001b[39;49m\u001b[43mn_samples_bootstrap\u001b[49m\u001b[43m,\u001b[49m\n\u001b[1;32m    505\u001b[0m \u001b[43m        \u001b[49m\u001b[43mmissing_values_in_feature_mask\u001b[49m\u001b[38;5;241;43m=\u001b[39;49m\u001b[43mmissing_values_in_feature_mask\u001b[49m\u001b[43m,\u001b[49m\n\u001b[1;32m    506\u001b[0m \u001b[43m    \u001b[49m\u001b[43m)\u001b[49m\n\u001b[1;32m    507\u001b[0m \u001b[43m    \u001b[49m\u001b[38;5;28;43;01mfor\u001b[39;49;00m\u001b[43m \u001b[49m\u001b[43mi\u001b[49m\u001b[43m,\u001b[49m\u001b[43m \u001b[49m\u001b[43mt\u001b[49m\u001b[43m \u001b[49m\u001b[38;5;129;43;01min\u001b[39;49;00m\u001b[43m \u001b[49m\u001b[38;5;28;43menumerate\u001b[39;49m\u001b[43m(\u001b[49m\u001b[43mtrees\u001b[49m\u001b[43m)\u001b[49m\n\u001b[1;32m    508\u001b[0m \u001b[43m\u001b[49m\u001b[43m)\u001b[49m\n\u001b[1;32m    510\u001b[0m \u001b[38;5;66;03m# Collect newly grown trees\u001b[39;00m\n\u001b[1;32m    511\u001b[0m \u001b[38;5;28mself\u001b[39m\u001b[38;5;241m.\u001b[39mestimators_\u001b[38;5;241m.\u001b[39mextend(trees)\n",
      "File \u001b[0;32m~/.local/lib/python3.10/site-packages/sklearn/utils/parallel.py:67\u001b[0m, in \u001b[0;36mParallel.__call__\u001b[0;34m(self, iterable)\u001b[0m\n\u001b[1;32m     62\u001b[0m config \u001b[38;5;241m=\u001b[39m get_config()\n\u001b[1;32m     63\u001b[0m iterable_with_config \u001b[38;5;241m=\u001b[39m (\n\u001b[1;32m     64\u001b[0m     (_with_config(delayed_func, config), args, kwargs)\n\u001b[1;32m     65\u001b[0m     \u001b[38;5;28;01mfor\u001b[39;00m delayed_func, args, kwargs \u001b[38;5;129;01min\u001b[39;00m iterable\n\u001b[1;32m     66\u001b[0m )\n\u001b[0;32m---> 67\u001b[0m \u001b[38;5;28;01mreturn\u001b[39;00m \u001b[38;5;28;43msuper\u001b[39;49m\u001b[43m(\u001b[49m\u001b[43m)\u001b[49m\u001b[38;5;241;43m.\u001b[39;49m\u001b[38;5;21;43m__call__\u001b[39;49m\u001b[43m(\u001b[49m\u001b[43miterable_with_config\u001b[49m\u001b[43m)\u001b[49m\n",
      "File \u001b[0;32m~/.local/lib/python3.10/site-packages/joblib/parallel.py:1918\u001b[0m, in \u001b[0;36mParallel.__call__\u001b[0;34m(self, iterable)\u001b[0m\n\u001b[1;32m   1916\u001b[0m     output \u001b[38;5;241m=\u001b[39m \u001b[38;5;28mself\u001b[39m\u001b[38;5;241m.\u001b[39m_get_sequential_output(iterable)\n\u001b[1;32m   1917\u001b[0m     \u001b[38;5;28mnext\u001b[39m(output)\n\u001b[0;32m-> 1918\u001b[0m     \u001b[38;5;28;01mreturn\u001b[39;00m output \u001b[38;5;28;01mif\u001b[39;00m \u001b[38;5;28mself\u001b[39m\u001b[38;5;241m.\u001b[39mreturn_generator \u001b[38;5;28;01melse\u001b[39;00m \u001b[38;5;28;43mlist\u001b[39;49m\u001b[43m(\u001b[49m\u001b[43moutput\u001b[49m\u001b[43m)\u001b[49m\n\u001b[1;32m   1920\u001b[0m \u001b[38;5;66;03m# Let's create an ID that uniquely identifies the current call. If the\u001b[39;00m\n\u001b[1;32m   1921\u001b[0m \u001b[38;5;66;03m# call is interrupted early and that the same instance is immediately\u001b[39;00m\n\u001b[1;32m   1922\u001b[0m \u001b[38;5;66;03m# re-used, this id will be used to prevent workers that were\u001b[39;00m\n\u001b[1;32m   1923\u001b[0m \u001b[38;5;66;03m# concurrently finalizing a task from the previous call to run the\u001b[39;00m\n\u001b[1;32m   1924\u001b[0m \u001b[38;5;66;03m# callback.\u001b[39;00m\n\u001b[1;32m   1925\u001b[0m \u001b[38;5;28;01mwith\u001b[39;00m \u001b[38;5;28mself\u001b[39m\u001b[38;5;241m.\u001b[39m_lock:\n",
      "File \u001b[0;32m~/.local/lib/python3.10/site-packages/joblib/parallel.py:1847\u001b[0m, in \u001b[0;36mParallel._get_sequential_output\u001b[0;34m(self, iterable)\u001b[0m\n\u001b[1;32m   1845\u001b[0m \u001b[38;5;28mself\u001b[39m\u001b[38;5;241m.\u001b[39mn_dispatched_batches \u001b[38;5;241m+\u001b[39m\u001b[38;5;241m=\u001b[39m \u001b[38;5;241m1\u001b[39m\n\u001b[1;32m   1846\u001b[0m \u001b[38;5;28mself\u001b[39m\u001b[38;5;241m.\u001b[39mn_dispatched_tasks \u001b[38;5;241m+\u001b[39m\u001b[38;5;241m=\u001b[39m \u001b[38;5;241m1\u001b[39m\n\u001b[0;32m-> 1847\u001b[0m res \u001b[38;5;241m=\u001b[39m \u001b[43mfunc\u001b[49m\u001b[43m(\u001b[49m\u001b[38;5;241;43m*\u001b[39;49m\u001b[43margs\u001b[49m\u001b[43m,\u001b[49m\u001b[43m \u001b[49m\u001b[38;5;241;43m*\u001b[39;49m\u001b[38;5;241;43m*\u001b[39;49m\u001b[43mkwargs\u001b[49m\u001b[43m)\u001b[49m\n\u001b[1;32m   1848\u001b[0m \u001b[38;5;28mself\u001b[39m\u001b[38;5;241m.\u001b[39mn_completed_tasks \u001b[38;5;241m+\u001b[39m\u001b[38;5;241m=\u001b[39m \u001b[38;5;241m1\u001b[39m\n\u001b[1;32m   1849\u001b[0m \u001b[38;5;28mself\u001b[39m\u001b[38;5;241m.\u001b[39mprint_progress()\n",
      "File \u001b[0;32m~/.local/lib/python3.10/site-packages/sklearn/utils/parallel.py:129\u001b[0m, in \u001b[0;36m_FuncWrapper.__call__\u001b[0;34m(self, *args, **kwargs)\u001b[0m\n\u001b[1;32m    127\u001b[0m     config \u001b[38;5;241m=\u001b[39m {}\n\u001b[1;32m    128\u001b[0m \u001b[38;5;28;01mwith\u001b[39;00m config_context(\u001b[38;5;241m*\u001b[39m\u001b[38;5;241m*\u001b[39mconfig):\n\u001b[0;32m--> 129\u001b[0m     \u001b[38;5;28;01mreturn\u001b[39;00m \u001b[38;5;28;43mself\u001b[39;49m\u001b[38;5;241;43m.\u001b[39;49m\u001b[43mfunction\u001b[49m\u001b[43m(\u001b[49m\u001b[38;5;241;43m*\u001b[39;49m\u001b[43margs\u001b[49m\u001b[43m,\u001b[49m\u001b[43m \u001b[49m\u001b[38;5;241;43m*\u001b[39;49m\u001b[38;5;241;43m*\u001b[39;49m\u001b[43mkwargs\u001b[49m\u001b[43m)\u001b[49m\n",
      "File \u001b[0;32m~/.local/lib/python3.10/site-packages/sklearn/ensemble/_forest.py:192\u001b[0m, in \u001b[0;36m_parallel_build_trees\u001b[0;34m(tree, bootstrap, X, y, sample_weight, tree_idx, n_trees, verbose, class_weight, n_samples_bootstrap, missing_values_in_feature_mask)\u001b[0m\n\u001b[1;32m    189\u001b[0m     \u001b[38;5;28;01melif\u001b[39;00m class_weight \u001b[38;5;241m==\u001b[39m \u001b[38;5;124m\"\u001b[39m\u001b[38;5;124mbalanced_subsample\u001b[39m\u001b[38;5;124m\"\u001b[39m:\n\u001b[1;32m    190\u001b[0m         curr_sample_weight \u001b[38;5;241m*\u001b[39m\u001b[38;5;241m=\u001b[39m compute_sample_weight(\u001b[38;5;124m\"\u001b[39m\u001b[38;5;124mbalanced\u001b[39m\u001b[38;5;124m\"\u001b[39m, y, indices\u001b[38;5;241m=\u001b[39mindices)\n\u001b[0;32m--> 192\u001b[0m     \u001b[43mtree\u001b[49m\u001b[38;5;241;43m.\u001b[39;49m\u001b[43m_fit\u001b[49m\u001b[43m(\u001b[49m\n\u001b[1;32m    193\u001b[0m \u001b[43m        \u001b[49m\u001b[43mX\u001b[49m\u001b[43m,\u001b[49m\n\u001b[1;32m    194\u001b[0m \u001b[43m        \u001b[49m\u001b[43my\u001b[49m\u001b[43m,\u001b[49m\n\u001b[1;32m    195\u001b[0m \u001b[43m        \u001b[49m\u001b[43msample_weight\u001b[49m\u001b[38;5;241;43m=\u001b[39;49m\u001b[43mcurr_sample_weight\u001b[49m\u001b[43m,\u001b[49m\n\u001b[1;32m    196\u001b[0m \u001b[43m        \u001b[49m\u001b[43mcheck_input\u001b[49m\u001b[38;5;241;43m=\u001b[39;49m\u001b[38;5;28;43;01mFalse\u001b[39;49;00m\u001b[43m,\u001b[49m\n\u001b[1;32m    197\u001b[0m \u001b[43m        \u001b[49m\u001b[43mmissing_values_in_feature_mask\u001b[49m\u001b[38;5;241;43m=\u001b[39;49m\u001b[43mmissing_values_in_feature_mask\u001b[49m\u001b[43m,\u001b[49m\n\u001b[1;32m    198\u001b[0m \u001b[43m    \u001b[49m\u001b[43m)\u001b[49m\n\u001b[1;32m    199\u001b[0m \u001b[38;5;28;01melse\u001b[39;00m:\n\u001b[1;32m    200\u001b[0m     tree\u001b[38;5;241m.\u001b[39m_fit(\n\u001b[1;32m    201\u001b[0m         X,\n\u001b[1;32m    202\u001b[0m         y,\n\u001b[0;32m   (...)\u001b[0m\n\u001b[1;32m    205\u001b[0m         missing_values_in_feature_mask\u001b[38;5;241m=\u001b[39mmissing_values_in_feature_mask,\n\u001b[1;32m    206\u001b[0m     )\n",
      "File \u001b[0;32m~/.local/lib/python3.10/site-packages/sklearn/tree/_classes.py:472\u001b[0m, in \u001b[0;36mBaseDecisionTree._fit\u001b[0;34m(self, X, y, sample_weight, check_input, missing_values_in_feature_mask)\u001b[0m\n\u001b[1;32m    461\u001b[0m \u001b[38;5;28;01melse\u001b[39;00m:\n\u001b[1;32m    462\u001b[0m     builder \u001b[38;5;241m=\u001b[39m BestFirstTreeBuilder(\n\u001b[1;32m    463\u001b[0m         splitter,\n\u001b[1;32m    464\u001b[0m         min_samples_split,\n\u001b[0;32m   (...)\u001b[0m\n\u001b[1;32m    469\u001b[0m         \u001b[38;5;28mself\u001b[39m\u001b[38;5;241m.\u001b[39mmin_impurity_decrease,\n\u001b[1;32m    470\u001b[0m     )\n\u001b[0;32m--> 472\u001b[0m \u001b[43mbuilder\u001b[49m\u001b[38;5;241;43m.\u001b[39;49m\u001b[43mbuild\u001b[49m\u001b[43m(\u001b[49m\u001b[38;5;28;43mself\u001b[39;49m\u001b[38;5;241;43m.\u001b[39;49m\u001b[43mtree_\u001b[49m\u001b[43m,\u001b[49m\u001b[43m \u001b[49m\u001b[43mX\u001b[49m\u001b[43m,\u001b[49m\u001b[43m \u001b[49m\u001b[43my\u001b[49m\u001b[43m,\u001b[49m\u001b[43m \u001b[49m\u001b[43msample_weight\u001b[49m\u001b[43m,\u001b[49m\u001b[43m \u001b[49m\u001b[43mmissing_values_in_feature_mask\u001b[49m\u001b[43m)\u001b[49m\n\u001b[1;32m    474\u001b[0m \u001b[38;5;28;01mif\u001b[39;00m \u001b[38;5;28mself\u001b[39m\u001b[38;5;241m.\u001b[39mn_outputs_ \u001b[38;5;241m==\u001b[39m \u001b[38;5;241m1\u001b[39m \u001b[38;5;129;01mand\u001b[39;00m is_classifier(\u001b[38;5;28mself\u001b[39m):\n\u001b[1;32m    475\u001b[0m     \u001b[38;5;28mself\u001b[39m\u001b[38;5;241m.\u001b[39mn_classes_ \u001b[38;5;241m=\u001b[39m \u001b[38;5;28mself\u001b[39m\u001b[38;5;241m.\u001b[39mn_classes_[\u001b[38;5;241m0\u001b[39m]\n",
      "\u001b[0;31mKeyboardInterrupt\u001b[0m: "
     ]
    }
   ],
   "source": [
    "run_RandomForest(df_train_valid)"
   ]
  },
  {
   "cell_type": "code",
   "execution_count": 242,
   "metadata": {},
   "outputs": [
    {
     "name": "stdout",
     "output_type": "stream",
     "text": [
      "0.5\n"
     ]
    }
   ],
   "source": [
    "k_strat = StratifiedKFold(n_splits=5, shuffle=False)\n",
    "folds = k_strat.split(df_train_valid.drop('shipment_issue',axis=1), df_train_valid['shipment_issue'])\n",
    "acc = []\n",
    "\n",
    "for train, test in folds:\n",
    "    \n",
    "    X_train, X_test = df_train_valid.drop('shipment_issue',axis=1).iloc[train], df_train_valid.drop('shipment_issue',axis=1).iloc[test]\n",
    "    y_train, y_test = df_train_valid['shipment_issue'].values[train], df_train_valid['shipment_issue'].values[test]\n",
    "    model = LogisticRegression()\n",
    "    model.fit(StandardScaler().fit_transform(X_train), y_train)\n",
    "    y_preds_LR = model.predict(StandardScaler().fit_transform(X_test))\n",
    "\n",
    "    accuracy_score_LR = roc_auc_score(y_test, y_preds_LR)\n",
    "    acc.append(accuracy_score_LR)\n",
    "\n",
    "print(np.average(acc))"
   ]
  },
  {
   "cell_type": "code",
   "execution_count": 243,
   "metadata": {},
   "outputs": [
    {
     "name": "stdout",
     "output_type": "stream",
     "text": [
      "0.510714270166732\n"
     ]
    }
   ],
   "source": [
    "k_strat = StratifiedKFold(n_splits=5, shuffle=False,)\n",
    "folds = k_strat.split(df_train_valid.drop('shipment_issue',axis=1), df_train_valid['shipment_issue'])\n",
    "acc = []\n",
    "\n",
    "for train, test in folds:\n",
    "    \n",
    "    X_train, X_test = df_train_valid.drop('shipment_issue',axis=1).iloc[train], df_train_valid.drop('shipment_issue',axis=1).iloc[test]\n",
    "    y_train, y_test = df_train_valid['shipment_issue'].values[train], df_train_valid['shipment_issue'].values[test]\n",
    "    model = XGBClassifier()\n",
    "    model.fit(StandardScaler().fit_transform(X_train), y_train)\n",
    "    y_preds_LR = model.predict(StandardScaler().fit_transform(X_test))\n",
    "\n",
    "    accuracy_score_LR = roc_auc_score(y_test, y_preds_LR)\n",
    "    acc.append(accuracy_score_LR)\n",
    "\n",
    "print(np.average(acc))"
   ]
  },
  {
   "cell_type": "code",
   "execution_count": 205,
   "metadata": {},
   "outputs": [
    {
     "data": {
      "text/plain": [
       "0.9074626865671642"
      ]
     },
     "execution_count": 205,
     "metadata": {},
     "output_type": "execute_result"
    }
   ],
   "source": []
  },
  {
   "cell_type": "code",
   "execution_count": 187,
   "metadata": {},
   "outputs": [
    {
     "data": {
      "text/plain": [
       "1676"
      ]
     },
     "execution_count": 187,
     "metadata": {},
     "output_type": "execute_result"
    }
   ],
   "source": [
    "len(x[0][1])"
   ]
  },
  {
   "cell_type": "code",
   "execution_count": 257,
   "metadata": {},
   "outputs": [],
   "source": [
    "X_train, X_test, y_train, y_test = train_test_split(df_train_valid.drop('shipment_issue',axis=1), df_train_valid['shipment_issue'], test_size=.25, stratify=df_train_valid['shipment_issue'])"
   ]
  },
  {
   "cell_type": "code",
   "execution_count": 258,
   "metadata": {},
   "outputs": [],
   "source": [
    "baseline_accuracy = roc_auc_score(y_test, np.tile(1,len(y_test)))"
   ]
  },
  {
   "cell_type": "code",
   "execution_count": 259,
   "metadata": {},
   "outputs": [
    {
     "data": {
      "text/plain": [
       "0.5"
      ]
     },
     "execution_count": 259,
     "metadata": {},
     "output_type": "execute_result"
    }
   ],
   "source": [
    "baseline_accuracy"
   ]
  },
  {
   "cell_type": "code",
   "execution_count": 260,
   "metadata": {},
   "outputs": [
    {
     "name": "stdout",
     "output_type": "stream",
     "text": [
      "0.5\n"
     ]
    }
   ],
   "source": [
    "model = LogisticRegression()\n",
    "model.fit(StandardScaler().fit_transform(X_train), y_train)\n",
    "y_preds_LR = model.predict(StandardScaler().fit_transform(X_test))\n",
    "\n",
    "accuracy_score_LR = roc_auc_score(y_test, y_preds_LR)\n",
    "print(accuracy_score_LR)"
   ]
  },
  {
   "cell_type": "code",
   "execution_count": 262,
   "metadata": {},
   "outputs": [
    {
     "name": "stdout",
     "output_type": "stream",
     "text": [
      "0.5347638326585695\n"
     ]
    }
   ],
   "source": [
    "model = RandomForestClassifier()\n",
    "model.fit(StandardScaler().fit_transform(X_train), y_train)\n",
    "y_preds_RF = model.predict(StandardScaler().fit_transform(X_test))\n",
    "\n",
    "accuracy_score_RF = roc_auc_score(y_test, y_preds_RF)\n",
    "print(accuracy_score_RF)"
   ]
  },
  {
   "cell_type": "code",
   "execution_count": 190,
   "metadata": {},
   "outputs": [],
   "source": [
    "model = XGBClassifier()\n",
    "model.fit(StandardScaler().fit_transform(X_train), y_train)\n",
    "y_preds_XGB = model.predict(StandardScaler().fit_transform(X_test))\n",
    "\n",
    "accuracy_score_XGB = accuracy_score(y_test, y_preds_XGB)"
   ]
  },
  {
   "cell_type": "code",
   "execution_count": null,
   "metadata": {},
   "outputs": [],
   "source": []
  },
  {
   "cell_type": "code",
   "execution_count": 263,
   "metadata": {},
   "outputs": [
    {
     "name": "stderr",
     "output_type": "stream",
     "text": [
      "/home/bstager/.local/lib/python3.10/site-packages/keras/src/layers/core/dense.py:86: UserWarning: Do not pass an `input_shape`/`input_dim` argument to a layer. When using Sequential models, prefer using an `Input(shape)` object as the first layer in the model instead.\n",
      "  super().__init__(activity_regularizer=activity_regularizer, **kwargs)\n"
     ]
    },
    {
     "name": "stdout",
     "output_type": "stream",
     "text": [
      "\u001b[1m197/197\u001b[0m \u001b[32m━━━━━━━━━━━━━━━━━━━━\u001b[0m\u001b[37m\u001b[0m \u001b[1m1s\u001b[0m 1ms/step - loss: 0.7623\n",
      "\u001b[1m66/66\u001b[0m \u001b[32m━━━━━━━━━━━━━━━━━━━━\u001b[0m\u001b[37m\u001b[0m \u001b[1m0s\u001b[0m 1ms/step\n"
     ]
    },
    {
     "data": {
      "text/plain": [
       "0.5"
      ]
     },
     "execution_count": 263,
     "metadata": {},
     "output_type": "execute_result"
    }
   ],
   "source": [
    "model = Sequential()\n",
    "\n",
    "model.add(Dense(units=32, input_dim=X_train.shape[1], activation='tanh'))\n",
    "model.add(Dropout(.5))\n",
    "model.add(Normalization())\n",
    "model.add(Dense(units=16, activation='tanh'))\n",
    "model.add(Dense(units=1, activation='sigmoid'))\n",
    "\n",
    "model.compile(optimizer='adam', loss='binary_crossentropy')\n",
    "model.fit(X_train, y_train)\n",
    "\n",
    "y_preds_NN = model.predict(X_test)\n",
    "y_preds_NN = (y_preds_NN >= .5).astype(int)\n",
    "\n",
    "roc_auc_score(y_test, y_preds_NN)"
   ]
  },
  {
   "cell_type": "code",
   "execution_count": null,
   "metadata": {},
   "outputs": [],
   "source": []
  },
  {
   "cell_type": "code",
   "execution_count": null,
   "metadata": {},
   "outputs": [],
   "source": [
    "model = Seq"
   ]
  },
  {
   "cell_type": "code",
   "execution_count": 192,
   "metadata": {},
   "outputs": [
    {
     "data": {
      "text/plain": [
       "0.5"
      ]
     },
     "execution_count": 192,
     "metadata": {},
     "output_type": "execute_result"
    }
   ],
   "source": [
    "roc_auc_score(y_test, np.tile(0, len(y_test)))"
   ]
  },
  {
   "cell_type": "code",
   "execution_count": 191,
   "metadata": {},
   "outputs": [
    {
     "data": {
      "text/plain": [
       "0.5295006747638327"
      ]
     },
     "execution_count": 191,
     "metadata": {},
     "output_type": "execute_result"
    }
   ],
   "source": [
    "roc_auc_score(y_test, y_preds_RF)"
   ]
  },
  {
   "cell_type": "code",
   "execution_count": null,
   "metadata": {},
   "outputs": [],
   "source": []
  }
 ],
 "metadata": {
  "kernelspec": {
   "display_name": "Python 3",
   "language": "python",
   "name": "python3"
  },
  "language_info": {
   "codemirror_mode": {
    "name": "ipython",
    "version": 3
   },
   "file_extension": ".py",
   "mimetype": "text/x-python",
   "name": "python",
   "nbconvert_exporter": "python",
   "pygments_lexer": "ipython3",
   "version": "3.11.1"
  }
 },
 "nbformat": 4,
 "nbformat_minor": 2
}
